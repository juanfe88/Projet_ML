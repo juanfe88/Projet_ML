{
 "cells": [
  {
   "cell_type": "code",
   "execution_count": 254,
   "metadata": {},
   "outputs": [],
   "source": [
    "%matplotlib notebook\n",
    "import pandas as pd\n",
    "import numpy as np\n",
    "import dask.dataframe as dk"
   ]
  },
  {
   "cell_type": "markdown",
   "metadata": {},
   "source": [
    "# Functions"
   ]
  },
  {
   "cell_type": "code",
   "execution_count": 255,
   "metadata": {},
   "outputs": [],
   "source": [
    "def euclidian_distance(p1,p2):\n",
    "    return np.sqrt((p1.latitude - p2.latitude)**2+(p1.longitude - p2.longitude)**2)\n",
    "\n",
    "def closest_station(row):\n",
    "    min_euc=10000\n",
    "    neighbor=''\n",
    "    for i,j,k in zip(latitude,longitude,s_id):\n",
    "        comp=pd.DataFrame({'latitude':[i],'longitude':[j]})\n",
    "        euc_d=euclidian_distance(row,comp)\n",
    "        if euc_d[0]<min_euc and euc_d[0] >0:\n",
    "            min_euc,neighbor=euc_d[0],k\n",
    "    return neighbor\n",
    "\n",
    "def fill_from_neighbor(col):\n",
    "    neighbor=y_localisation.loc[y_localisation.t_id==col.name]\n",
    "\n",
    "def pred(row):\n",
    "    weekday = row.timestamp.weekday()\n",
    "    hour=row.timestamp.hour\n",
    "    mins=row.timestamp.minute\n",
    "    for i in y_train.columns[1:]:\n",
    "        row[i]=y_train.loc[(y_train['timestamp'].dt.weekday==weekday) & (y_train['timestamp'].dt.hour==hour) & (y_train['timestamp'].dt.minute==mins)][i].mode().values[0]\n",
    "    return row\n"
   ]
  },
  {
   "cell_type": "markdown",
   "metadata": {},
   "source": [
    "# Loading data"
   ]
  },
  {
   "cell_type": "code",
   "execution_count": 256,
   "metadata": {},
   "outputs": [
    {
     "name": "stderr",
     "output_type": "stream",
     "text": [
      "/Users/juanfelipearias/Library/Python/3.9/lib/python/site-packages/IPython/core/interactiveshell.py:3165: DtypeWarning: Columns (1,3,5,11,20,49,52,54,55,56,64,70,71,94,95,101,102,114,129,131,132,133,138,139,152,157,163,174,180,184,193,196,201,207,208,219,220,228,241,245,250,256,258,264,265,269,270,271,272,273) have mixed types.Specify dtype option on import or set low_memory=False.\n",
      "  has_raised = await self.run_ast_nodes(code_ast.body, cell_name,\n"
     ]
    }
   ],
   "source": [
    "y_train=pd.read_csv('ytrain_NpxebDC.csv')\n",
    "y_train['timestamp']=pd.to_datetime(y_train['timestamp'])\n",
    "y_localisation=pd.read_csv('sup_files/info_static.csv')\n",
    "ypred=pd.read_csv('yrandom.csv',usecols=[0])\n",
    "ypred['timestamp']=pd.to_datetime(ypred['timestamp'])\n",
    "for i in y_train.columns[1:]:\n",
    "    ypred[i]=np.nan\n",
    "    ypred[i]=ypred[i].astype(str)"
   ]
  },
  {
   "cell_type": "markdown",
   "metadata": {},
   "source": [
    "# Utilitary data"
   ]
  },
  {
   "cell_type": "code",
   "execution_count": 257,
   "metadata": {},
   "outputs": [],
   "source": [
    "s_id=[]\n",
    "latitude=[]\n",
    "longitude=[]\n",
    "for i in y_localisation[['s_id','latitude','longitude']].values.tolist():\n",
    "    if i[0] not in s_id:\n",
    "        s_id.append(i[0])\n",
    "    if i[1] not in latitude:\n",
    "        latitude.append(i[1])\n",
    "    if i[2] not in longitude:\n",
    "        longitude.append(i[2])"
   ]
  },
  {
   "cell_type": "markdown",
   "metadata": {},
   "source": [
    "#  organizing the data"
   ]
  },
  {
   "cell_type": "code",
   "execution_count": 258,
   "metadata": {},
   "outputs": [],
   "source": [
    "cols_ordered=[\"S\"+str(i)+\"-T\"+str(j) for i in range(1,100) for j in range(1,4)]\n",
    "cols_ordered=list(filter(lambda x: x in y_train.columns.tolist(),cols_ordered))\n",
    "cols_ordered.insert(0,y_train.columns.tolist()[0])\n",
    "y_train=y_train[cols_ordered]\n",
    "y_localisation['closest_s_id']=y_localisation.apply(closest_station,axis=1)"
   ]
  },
  {
   "cell_type": "code",
   "execution_count": 222,
   "metadata": {},
   "outputs": [
    {
     "data": {
      "text/plain": [
       "'S29'"
      ]
     },
     "execution_count": 222,
     "metadata": {},
     "output_type": "execute_result"
    }
   ],
   "source": [
    "y_localisation.loc[y_localisation.s_id=='S1'].closest_s_id.unique()[0]"
   ]
  },
  {
   "cell_type": "code",
   "execution_count": 259,
   "metadata": {},
   "outputs": [],
   "source": [
    "ypred=ypred.apply(pred,axis=1)"
   ]
  },
  {
   "cell_type": "code",
   "execution_count": 261,
   "metadata": {},
   "outputs": [],
   "source": [
    "ypred.to_csv('blsubmission.csv')"
   ]
  },
  {
   "cell_type": "code",
   "execution_count": null,
   "metadata": {},
   "outputs": [],
   "source": []
  }
 ],
 "metadata": {
  "interpreter": {
   "hash": "aee8b7b246df8f9039afb4144a1f6fd8d2ca17a180786b69acc140d282b71a49"
  },
  "kernelspec": {
   "display_name": "Python 3.9.7 64-bit",
   "language": "python",
   "name": "python3"
  },
  "language_info": {
   "codemirror_mode": {
    "name": "ipython",
    "version": 3
   },
   "file_extension": ".py",
   "mimetype": "text/x-python",
   "name": "python",
   "nbconvert_exporter": "python",
   "pygments_lexer": "ipython3",
   "version": "3.9.7"
  },
  "orig_nbformat": 4
 },
 "nbformat": 4,
 "nbformat_minor": 2
}

{
 "cells": [
  {
   "cell_type": "markdown",
   "source": [
    "# Import de librairies"
   ],
   "metadata": {
    "collapsed": false,
    "pycharm": {
     "name": "#%% md\n"
    }
   }
  },
  {
   "cell_type": "code",
   "execution_count": 1,
   "outputs": [],
   "source": [
    "import pandas as pd\n",
    "import numpy as np"
   ],
   "metadata": {
    "collapsed": false,
    "pycharm": {
     "name": "#%%\n"
    }
   }
  },
  {
   "cell_type": "code",
   "execution_count": 5,
   "outputs": [
    {
     "name": "stderr",
     "output_type": "stream",
     "text": [
      "/Users/juanfelipearias/Library/Python/3.9/lib/python/site-packages/IPython/core/interactiveshell.py:3165: DtypeWarning: Columns (1,3,5,11,20,49,52,54,55,56,64,70,71,94,95,101,102,114,129,131,132,133,138,139,152,157,163,174,180,184,193,196,201,207,208,219,220,228,241,245,250,256,258,264,265,269,270,271,272,273) have mixed types.Specify dtype option on import or set low_memory=False.\n",
      "  has_raised = await self.run_ast_nodes(code_ast.body, cell_name,\n"
     ]
    }
   ],
   "source": [
    "x_train=pd.read_csv('xtrain.csv')\n",
    "x_test=pd.read_csv('xtest.csv')\n",
    "y_train=pd.read_csv('ytrain_NpxebDC.csv')"
   ],
   "metadata": {
    "collapsed": false,
    "pycharm": {
     "name": "#%%\n"
    }
   }
  },
  {
   "cell_type": "code",
   "execution_count": 6,
   "outputs": [
    {
     "data": {
      "text/plain": "                       timestamp S7-T1      S2-T1     S19-T1     S56-T3  \\\n0      2019-11-25T00:00:00+00:00  Down       Down  Available       Down   \n1      2019-11-25T00:15:00+00:00  Down       Down  Available       Down   \n2      2019-11-25T00:30:00+00:00  Down       Down  Available       Down   \n3      2019-11-25T00:45:00+00:00  Down       Down  Available       Down   \n4      2019-11-25T01:00:00+00:00  Down       Down  Available       Down   \n...                          ...   ...        ...        ...        ...   \n31227  2020-11-08T22:45:00+00:00   NaN  Available        NaN  Available   \n31228  2020-11-08T23:00:00+00:00   NaN  Available        NaN  Available   \n31229  2020-11-08T23:15:00+00:00   NaN  Available        NaN  Available   \n31230  2020-11-08T23:30:00+00:00   NaN  Available        NaN  Available   \n31231  2020-11-08T23:45:00+00:00   NaN  Available        NaN  Available   \n\n      S85-T3     S16-T3     S16-T1     S94-T3     S28-T1  ... S47-T2   S65-T2  \\\n0       Down    Offline    Offline    Offline  Available  ...   Down  Offline   \n1       Down    Offline    Offline    Offline  Available  ...   Down  Offline   \n2       Down    Offline    Offline    Offline  Available  ...   Down  Offline   \n3       Down    Offline    Offline    Offline  Available  ...   Down  Offline   \n4       Down    Offline    Offline    Offline  Available  ...   Down  Offline   \n...      ...        ...        ...        ...        ...  ...    ...      ...   \n31227    NaN  Available  Available  Available  Available  ...    NaN      NaN   \n31228    NaN  Available  Available  Available  Available  ...    NaN      NaN   \n31229    NaN  Available  Available  Available  Available  ...    NaN      NaN   \n31230    NaN  Available  Available  Available  Available  ...    NaN      NaN   \n31231    NaN  Available  Available  Available  Available  ...    NaN      NaN   \n\n          S32-T2     S21-T2     S13-T2     S97-T2     S25-T1     S25-T2  \\\n0        Offline  Available  Available        NaN        NaN        NaN   \n1        Offline  Available  Available        NaN        NaN        NaN   \n2        Offline  Available  Available        NaN        NaN        NaN   \n3        Offline  Available  Available        NaN        NaN        NaN   \n4        Offline  Available  Available        NaN        NaN        NaN   \n...          ...        ...        ...        ...        ...        ...   \n31227  Available  Available  Available  Available  Available  Available   \n31228  Available  Available  Available  Available  Available  Available   \n31229  Available  Available  Available  Available  Available  Available   \n31230  Available  Available  Available  Available  Available  Available   \n31231  Available  Available  Available  Available  Available  Available   \n\n          S98-T2     S99-T2  \n0            NaN        NaN  \n1            NaN        NaN  \n2            NaN        NaN  \n3            NaN        NaN  \n4            NaN        NaN  \n...          ...        ...  \n31227  Available  Available  \n31228  Available  Available  \n31229  Available  Available  \n31230  Available  Available  \n31231  Available  Available  \n\n[31232 rows x 274 columns]",
      "text/html": "<div>\n<style scoped>\n    .dataframe tbody tr th:only-of-type {\n        vertical-align: middle;\n    }\n\n    .dataframe tbody tr th {\n        vertical-align: top;\n    }\n\n    .dataframe thead th {\n        text-align: right;\n    }\n</style>\n<table border=\"1\" class=\"dataframe\">\n  <thead>\n    <tr style=\"text-align: right;\">\n      <th></th>\n      <th>timestamp</th>\n      <th>S7-T1</th>\n      <th>S2-T1</th>\n      <th>S19-T1</th>\n      <th>S56-T3</th>\n      <th>S85-T3</th>\n      <th>S16-T3</th>\n      <th>S16-T1</th>\n      <th>S94-T3</th>\n      <th>S28-T1</th>\n      <th>...</th>\n      <th>S47-T2</th>\n      <th>S65-T2</th>\n      <th>S32-T2</th>\n      <th>S21-T2</th>\n      <th>S13-T2</th>\n      <th>S97-T2</th>\n      <th>S25-T1</th>\n      <th>S25-T2</th>\n      <th>S98-T2</th>\n      <th>S99-T2</th>\n    </tr>\n  </thead>\n  <tbody>\n    <tr>\n      <th>0</th>\n      <td>2019-11-25T00:00:00+00:00</td>\n      <td>Down</td>\n      <td>Down</td>\n      <td>Available</td>\n      <td>Down</td>\n      <td>Down</td>\n      <td>Offline</td>\n      <td>Offline</td>\n      <td>Offline</td>\n      <td>Available</td>\n      <td>...</td>\n      <td>Down</td>\n      <td>Offline</td>\n      <td>Offline</td>\n      <td>Available</td>\n      <td>Available</td>\n      <td>NaN</td>\n      <td>NaN</td>\n      <td>NaN</td>\n      <td>NaN</td>\n      <td>NaN</td>\n    </tr>\n    <tr>\n      <th>1</th>\n      <td>2019-11-25T00:15:00+00:00</td>\n      <td>Down</td>\n      <td>Down</td>\n      <td>Available</td>\n      <td>Down</td>\n      <td>Down</td>\n      <td>Offline</td>\n      <td>Offline</td>\n      <td>Offline</td>\n      <td>Available</td>\n      <td>...</td>\n      <td>Down</td>\n      <td>Offline</td>\n      <td>Offline</td>\n      <td>Available</td>\n      <td>Available</td>\n      <td>NaN</td>\n      <td>NaN</td>\n      <td>NaN</td>\n      <td>NaN</td>\n      <td>NaN</td>\n    </tr>\n    <tr>\n      <th>2</th>\n      <td>2019-11-25T00:30:00+00:00</td>\n      <td>Down</td>\n      <td>Down</td>\n      <td>Available</td>\n      <td>Down</td>\n      <td>Down</td>\n      <td>Offline</td>\n      <td>Offline</td>\n      <td>Offline</td>\n      <td>Available</td>\n      <td>...</td>\n      <td>Down</td>\n      <td>Offline</td>\n      <td>Offline</td>\n      <td>Available</td>\n      <td>Available</td>\n      <td>NaN</td>\n      <td>NaN</td>\n      <td>NaN</td>\n      <td>NaN</td>\n      <td>NaN</td>\n    </tr>\n    <tr>\n      <th>3</th>\n      <td>2019-11-25T00:45:00+00:00</td>\n      <td>Down</td>\n      <td>Down</td>\n      <td>Available</td>\n      <td>Down</td>\n      <td>Down</td>\n      <td>Offline</td>\n      <td>Offline</td>\n      <td>Offline</td>\n      <td>Available</td>\n      <td>...</td>\n      <td>Down</td>\n      <td>Offline</td>\n      <td>Offline</td>\n      <td>Available</td>\n      <td>Available</td>\n      <td>NaN</td>\n      <td>NaN</td>\n      <td>NaN</td>\n      <td>NaN</td>\n      <td>NaN</td>\n    </tr>\n    <tr>\n      <th>4</th>\n      <td>2019-11-25T01:00:00+00:00</td>\n      <td>Down</td>\n      <td>Down</td>\n      <td>Available</td>\n      <td>Down</td>\n      <td>Down</td>\n      <td>Offline</td>\n      <td>Offline</td>\n      <td>Offline</td>\n      <td>Available</td>\n      <td>...</td>\n      <td>Down</td>\n      <td>Offline</td>\n      <td>Offline</td>\n      <td>Available</td>\n      <td>Available</td>\n      <td>NaN</td>\n      <td>NaN</td>\n      <td>NaN</td>\n      <td>NaN</td>\n      <td>NaN</td>\n    </tr>\n    <tr>\n      <th>...</th>\n      <td>...</td>\n      <td>...</td>\n      <td>...</td>\n      <td>...</td>\n      <td>...</td>\n      <td>...</td>\n      <td>...</td>\n      <td>...</td>\n      <td>...</td>\n      <td>...</td>\n      <td>...</td>\n      <td>...</td>\n      <td>...</td>\n      <td>...</td>\n      <td>...</td>\n      <td>...</td>\n      <td>...</td>\n      <td>...</td>\n      <td>...</td>\n      <td>...</td>\n      <td>...</td>\n    </tr>\n    <tr>\n      <th>31227</th>\n      <td>2020-11-08T22:45:00+00:00</td>\n      <td>NaN</td>\n      <td>Available</td>\n      <td>NaN</td>\n      <td>Available</td>\n      <td>NaN</td>\n      <td>Available</td>\n      <td>Available</td>\n      <td>Available</td>\n      <td>Available</td>\n      <td>...</td>\n      <td>NaN</td>\n      <td>NaN</td>\n      <td>Available</td>\n      <td>Available</td>\n      <td>Available</td>\n      <td>Available</td>\n      <td>Available</td>\n      <td>Available</td>\n      <td>Available</td>\n      <td>Available</td>\n    </tr>\n    <tr>\n      <th>31228</th>\n      <td>2020-11-08T23:00:00+00:00</td>\n      <td>NaN</td>\n      <td>Available</td>\n      <td>NaN</td>\n      <td>Available</td>\n      <td>NaN</td>\n      <td>Available</td>\n      <td>Available</td>\n      <td>Available</td>\n      <td>Available</td>\n      <td>...</td>\n      <td>NaN</td>\n      <td>NaN</td>\n      <td>Available</td>\n      <td>Available</td>\n      <td>Available</td>\n      <td>Available</td>\n      <td>Available</td>\n      <td>Available</td>\n      <td>Available</td>\n      <td>Available</td>\n    </tr>\n    <tr>\n      <th>31229</th>\n      <td>2020-11-08T23:15:00+00:00</td>\n      <td>NaN</td>\n      <td>Available</td>\n      <td>NaN</td>\n      <td>Available</td>\n      <td>NaN</td>\n      <td>Available</td>\n      <td>Available</td>\n      <td>Available</td>\n      <td>Available</td>\n      <td>...</td>\n      <td>NaN</td>\n      <td>NaN</td>\n      <td>Available</td>\n      <td>Available</td>\n      <td>Available</td>\n      <td>Available</td>\n      <td>Available</td>\n      <td>Available</td>\n      <td>Available</td>\n      <td>Available</td>\n    </tr>\n    <tr>\n      <th>31230</th>\n      <td>2020-11-08T23:30:00+00:00</td>\n      <td>NaN</td>\n      <td>Available</td>\n      <td>NaN</td>\n      <td>Available</td>\n      <td>NaN</td>\n      <td>Available</td>\n      <td>Available</td>\n      <td>Available</td>\n      <td>Available</td>\n      <td>...</td>\n      <td>NaN</td>\n      <td>NaN</td>\n      <td>Available</td>\n      <td>Available</td>\n      <td>Available</td>\n      <td>Available</td>\n      <td>Available</td>\n      <td>Available</td>\n      <td>Available</td>\n      <td>Available</td>\n    </tr>\n    <tr>\n      <th>31231</th>\n      <td>2020-11-08T23:45:00+00:00</td>\n      <td>NaN</td>\n      <td>Available</td>\n      <td>NaN</td>\n      <td>Available</td>\n      <td>NaN</td>\n      <td>Available</td>\n      <td>Available</td>\n      <td>Available</td>\n      <td>Available</td>\n      <td>...</td>\n      <td>NaN</td>\n      <td>NaN</td>\n      <td>Available</td>\n      <td>Available</td>\n      <td>Available</td>\n      <td>Available</td>\n      <td>Available</td>\n      <td>Available</td>\n      <td>Available</td>\n      <td>Available</td>\n    </tr>\n  </tbody>\n</table>\n<p>31232 rows × 274 columns</p>\n</div>"
     },
     "execution_count": 6,
     "metadata": {},
     "output_type": "execute_result"
    }
   ],
   "source": [
    "y_train"
   ],
   "metadata": {
    "collapsed": false,
    "pycharm": {
     "name": "#%%\n"
    }
   }
  },
  {
   "cell_type": "code",
   "execution_count": null,
   "outputs": [],
   "source": [],
   "metadata": {
    "collapsed": false,
    "pycharm": {
     "name": "#%%\n"
    }
   }
  }
 ],
 "metadata": {
  "kernelspec": {
   "display_name": "Python 3",
   "language": "python",
   "name": "python3"
  },
  "language_info": {
   "codemirror_mode": {
    "name": "ipython",
    "version": 2
   },
   "file_extension": ".py",
   "mimetype": "text/x-python",
   "name": "python",
   "nbconvert_exporter": "python",
   "pygments_lexer": "ipython2",
   "version": "2.7.6"
  }
 },
 "nbformat": 4,
 "nbformat_minor": 0
}
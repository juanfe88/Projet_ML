{
 "cells": [
  {
   "cell_type": "markdown",
   "metadata": {
    "collapsed": false,
    "pycharm": {
     "name": "#%% md\n"
    }
   },
   "source": [
    "# Import de librairies"
   ]
  },
  {
   "cell_type": "code",
   "execution_count": 2,
   "metadata": {
    "collapsed": false,
    "pycharm": {
     "name": "#%%\n"
    }
   },
   "outputs": [],
   "source": [
    "import keras.optimizers\n",
    "%matplotlib notebook\n",
    "import pandas as pd\n",
    "import numpy as np\n",
    "import tensorflow  as tf\n",
    "from sklearn.model_selection import train_test_split"
   ]
  },
  {
   "cell_type": "code",
   "execution_count": 3,
   "metadata": {
    "collapsed": false,
    "pycharm": {
     "name": "#%%\n"
    }
   },
   "outputs": [
    {
     "name": "stderr",
     "output_type": "stream",
     "text": [
      "/Users/juanfelipearias/Library/Python/3.9/lib/python/site-packages/IPython/core/interactiveshell.py:3165: DtypeWarning: Columns (1,3,5,11,20,49,52,54,55,56,64,70,71,94,95,101,102,114,129,131,132,133,138,139,152,157,163,174,180,184,193,196,201,207,208,219,220,228,241,245,250,256,258,264,265,269,270,271,272,273) have mixed types.Specify dtype option on import or set low_memory=False.\n",
      "  has_raised = await self.run_ast_nodes(code_ast.body, cell_name,\n"
     ]
    }
   ],
   "source": [
    "x_train=pd.read_csv('xtrain.csv')\n",
    "x_test=pd.read_csv('xtest.csv')\n",
    "y_train=pd.read_csv('ytrain_NpxebDC.csv')"
   ]
  },
  {
   "cell_type": "markdown",
   "metadata": {
    "collapsed": false,
    "pycharm": {
     "name": "#%% md\n"
    }
   },
   "source": [
    "Segmentation of intersected data between x_train and y_train. This will be based on the assumption that the state of the stations wont change within the hour, therefore we change the  frequency from 15m to 1 h"
   ]
  },
  {
   "cell_type": "code",
   "execution_count": 4,
   "metadata": {
    "collapsed": false,
    "pycharm": {
     "name": "#%%\n"
    }
   },
   "outputs": [],
   "source": [
    "y_train=y_train.loc[y_train.timestamp.isin(x_train.timestamp)]\n",
    "x_train=x_train.loc[x_train.timestamp.isin(y_train.timestamp)] "
   ]
  },
  {
   "cell_type": "markdown",
   "metadata": {
    "collapsed": false,
    "pycharm": {
     "name": "#%% md\n"
    }
   },
   "source": [
    "## Treating mising values"
   ]
  },
  {
   "cell_type": "code",
   "execution_count": 5,
   "metadata": {
    "collapsed": false,
    "pycharm": {
     "name": "#%%\n"
    }
   },
   "outputs": [
    {
     "name": "stdout",
     "output_type": "stream",
     "text": [
      "There are 3 missing values in the column:temperatureproportion: 0.038%\n",
      "There are 6 missing values in the column:wind_speedproportion: 0.076%\n",
      "There are 6 missing values in the column:wind_gust_speedproportion: 0.076%\n",
      "There are 48 missing values in the column:rain_levelproportion: 0.615%\n",
      "There are 58 missing values in the column:traffic_stateproportion: 0.743%\n",
      "There are 58 missing values in the column:average_flowproportion: 0.743%\n"
     ]
    }
   ],
   "source": [
    "for i in x_train.columns:\n",
    "    if  x_train[i].isna().any():\n",
    "        print(\"There are \"+str(len(x_train[i].loc[x_train[i].isna()]))+\" missing values in the column:\" + i+\"proportion: \"+str((len(x_train[i].loc[x_train[i].isna()])/len(x_train[i]))*100)[:5]+\"%\")"
   ]
  },
  {
   "cell_type": "markdown",
   "metadata": {
    "collapsed": false,
    "pycharm": {
     "name": "#%% md\n"
    }
   },
   "source": []
  },
  {
   "cell_type": "code",
   "execution_count": 6,
   "metadata": {
    "collapsed": false,
    "pycharm": {
     "name": "#%%\n"
    }
   },
   "outputs": [
    {
     "data": {
      "application/javascript": "/* Put everything inside the global mpl namespace */\n/* global mpl */\nwindow.mpl = {};\n\nmpl.get_websocket_type = function () {\n    if (typeof WebSocket !== 'undefined') {\n        return WebSocket;\n    } else if (typeof MozWebSocket !== 'undefined') {\n        return MozWebSocket;\n    } else {\n        alert(\n            'Your browser does not have WebSocket support. ' +\n                'Please try Chrome, Safari or Firefox ≥ 6. ' +\n                'Firefox 4 and 5 are also supported but you ' +\n                'have to enable WebSockets in about:config.'\n        );\n    }\n};\n\nmpl.figure = function (figure_id, websocket, ondownload, parent_element) {\n    this.id = figure_id;\n\n    this.ws = websocket;\n\n    this.supports_binary = this.ws.binaryType !== undefined;\n\n    if (!this.supports_binary) {\n        var warnings = document.getElementById('mpl-warnings');\n        if (warnings) {\n            warnings.style.display = 'block';\n            warnings.textContent =\n                'This browser does not support binary websocket messages. ' +\n                'Performance may be slow.';\n        }\n    }\n\n    this.imageObj = new Image();\n\n    this.context = undefined;\n    this.message = undefined;\n    this.canvas = undefined;\n    this.rubberband_canvas = undefined;\n    this.rubberband_context = undefined;\n    this.format_dropdown = undefined;\n\n    this.image_mode = 'full';\n\n    this.root = document.createElement('div');\n    this.root.setAttribute('style', 'display: inline-block');\n    this._root_extra_style(this.root);\n\n    parent_element.appendChild(this.root);\n\n    this._init_header(this);\n    this._init_canvas(this);\n    this._init_toolbar(this);\n\n    var fig = this;\n\n    this.waiting = false;\n\n    this.ws.onopen = function () {\n        fig.send_message('supports_binary', { value: fig.supports_binary });\n        fig.send_message('send_image_mode', {});\n        if (fig.ratio !== 1) {\n            fig.send_message('set_dpi_ratio', { dpi_ratio: fig.ratio });\n        }\n        fig.send_message('refresh', {});\n    };\n\n    this.imageObj.onload = function () {\n        if (fig.image_mode === 'full') {\n            // Full images could contain transparency (where diff images\n            // almost always do), so we need to clear the canvas so that\n            // there is no ghosting.\n            fig.context.clearRect(0, 0, fig.canvas.width, fig.canvas.height);\n        }\n        fig.context.drawImage(fig.imageObj, 0, 0);\n    };\n\n    this.imageObj.onunload = function () {\n        fig.ws.close();\n    };\n\n    this.ws.onmessage = this._make_on_message_function(this);\n\n    this.ondownload = ondownload;\n};\n\nmpl.figure.prototype._init_header = function () {\n    var titlebar = document.createElement('div');\n    titlebar.classList =\n        'ui-dialog-titlebar ui-widget-header ui-corner-all ui-helper-clearfix';\n    var titletext = document.createElement('div');\n    titletext.classList = 'ui-dialog-title';\n    titletext.setAttribute(\n        'style',\n        'width: 100%; text-align: center; padding: 3px;'\n    );\n    titlebar.appendChild(titletext);\n    this.root.appendChild(titlebar);\n    this.header = titletext;\n};\n\nmpl.figure.prototype._canvas_extra_style = function (_canvas_div) {};\n\nmpl.figure.prototype._root_extra_style = function (_canvas_div) {};\n\nmpl.figure.prototype._init_canvas = function () {\n    var fig = this;\n\n    var canvas_div = (this.canvas_div = document.createElement('div'));\n    canvas_div.setAttribute(\n        'style',\n        'border: 1px solid #ddd;' +\n            'box-sizing: content-box;' +\n            'clear: both;' +\n            'min-height: 1px;' +\n            'min-width: 1px;' +\n            'outline: 0;' +\n            'overflow: hidden;' +\n            'position: relative;' +\n            'resize: both;'\n    );\n\n    function on_keyboard_event_closure(name) {\n        return function (event) {\n            return fig.key_event(event, name);\n        };\n    }\n\n    canvas_div.addEventListener(\n        'keydown',\n        on_keyboard_event_closure('key_press')\n    );\n    canvas_div.addEventListener(\n        'keyup',\n        on_keyboard_event_closure('key_release')\n    );\n\n    this._canvas_extra_style(canvas_div);\n    this.root.appendChild(canvas_div);\n\n    var canvas = (this.canvas = document.createElement('canvas'));\n    canvas.classList.add('mpl-canvas');\n    canvas.setAttribute('style', 'box-sizing: content-box;');\n\n    this.context = canvas.getContext('2d');\n\n    var backingStore =\n        this.context.backingStorePixelRatio ||\n        this.context.webkitBackingStorePixelRatio ||\n        this.context.mozBackingStorePixelRatio ||\n        this.context.msBackingStorePixelRatio ||\n        this.context.oBackingStorePixelRatio ||\n        this.context.backingStorePixelRatio ||\n        1;\n\n    this.ratio = (window.devicePixelRatio || 1) / backingStore;\n\n    var rubberband_canvas = (this.rubberband_canvas = document.createElement(\n        'canvas'\n    ));\n    rubberband_canvas.setAttribute(\n        'style',\n        'box-sizing: content-box; position: absolute; left: 0; top: 0; z-index: 1;'\n    );\n\n    // Apply a ponyfill if ResizeObserver is not implemented by browser.\n    if (this.ResizeObserver === undefined) {\n        if (window.ResizeObserver !== undefined) {\n            this.ResizeObserver = window.ResizeObserver;\n        } else {\n            var obs = _JSXTOOLS_RESIZE_OBSERVER({});\n            this.ResizeObserver = obs.ResizeObserver;\n        }\n    }\n\n    this.resizeObserverInstance = new this.ResizeObserver(function (entries) {\n        var nentries = entries.length;\n        for (var i = 0; i < nentries; i++) {\n            var entry = entries[i];\n            var width, height;\n            if (entry.contentBoxSize) {\n                if (entry.contentBoxSize instanceof Array) {\n                    // Chrome 84 implements new version of spec.\n                    width = entry.contentBoxSize[0].inlineSize;\n                    height = entry.contentBoxSize[0].blockSize;\n                } else {\n                    // Firefox implements old version of spec.\n                    width = entry.contentBoxSize.inlineSize;\n                    height = entry.contentBoxSize.blockSize;\n                }\n            } else {\n                // Chrome <84 implements even older version of spec.\n                width = entry.contentRect.width;\n                height = entry.contentRect.height;\n            }\n\n            // Keep the size of the canvas and rubber band canvas in sync with\n            // the canvas container.\n            if (entry.devicePixelContentBoxSize) {\n                // Chrome 84 implements new version of spec.\n                canvas.setAttribute(\n                    'width',\n                    entry.devicePixelContentBoxSize[0].inlineSize\n                );\n                canvas.setAttribute(\n                    'height',\n                    entry.devicePixelContentBoxSize[0].blockSize\n                );\n            } else {\n                canvas.setAttribute('width', width * fig.ratio);\n                canvas.setAttribute('height', height * fig.ratio);\n            }\n            canvas.setAttribute(\n                'style',\n                'width: ' + width + 'px; height: ' + height + 'px;'\n            );\n\n            rubberband_canvas.setAttribute('width', width);\n            rubberband_canvas.setAttribute('height', height);\n\n            // And update the size in Python. We ignore the initial 0/0 size\n            // that occurs as the element is placed into the DOM, which should\n            // otherwise not happen due to the minimum size styling.\n            if (fig.ws.readyState == 1 && width != 0 && height != 0) {\n                fig.request_resize(width, height);\n            }\n        }\n    });\n    this.resizeObserverInstance.observe(canvas_div);\n\n    function on_mouse_event_closure(name) {\n        return function (event) {\n            return fig.mouse_event(event, name);\n        };\n    }\n\n    rubberband_canvas.addEventListener(\n        'mousedown',\n        on_mouse_event_closure('button_press')\n    );\n    rubberband_canvas.addEventListener(\n        'mouseup',\n        on_mouse_event_closure('button_release')\n    );\n    rubberband_canvas.addEventListener(\n        'dblclick',\n        on_mouse_event_closure('dblclick')\n    );\n    // Throttle sequential mouse events to 1 every 20ms.\n    rubberband_canvas.addEventListener(\n        'mousemove',\n        on_mouse_event_closure('motion_notify')\n    );\n\n    rubberband_canvas.addEventListener(\n        'mouseenter',\n        on_mouse_event_closure('figure_enter')\n    );\n    rubberband_canvas.addEventListener(\n        'mouseleave',\n        on_mouse_event_closure('figure_leave')\n    );\n\n    canvas_div.addEventListener('wheel', function (event) {\n        if (event.deltaY < 0) {\n            event.step = 1;\n        } else {\n            event.step = -1;\n        }\n        on_mouse_event_closure('scroll')(event);\n    });\n\n    canvas_div.appendChild(canvas);\n    canvas_div.appendChild(rubberband_canvas);\n\n    this.rubberband_context = rubberband_canvas.getContext('2d');\n    this.rubberband_context.strokeStyle = '#000000';\n\n    this._resize_canvas = function (width, height, forward) {\n        if (forward) {\n            canvas_div.style.width = width + 'px';\n            canvas_div.style.height = height + 'px';\n        }\n    };\n\n    // Disable right mouse context menu.\n    this.rubberband_canvas.addEventListener('contextmenu', function (_e) {\n        event.preventDefault();\n        return false;\n    });\n\n    function set_focus() {\n        canvas.focus();\n        canvas_div.focus();\n    }\n\n    window.setTimeout(set_focus, 100);\n};\n\nmpl.figure.prototype._init_toolbar = function () {\n    var fig = this;\n\n    var toolbar = document.createElement('div');\n    toolbar.classList = 'mpl-toolbar';\n    this.root.appendChild(toolbar);\n\n    function on_click_closure(name) {\n        return function (_event) {\n            return fig.toolbar_button_onclick(name);\n        };\n    }\n\n    function on_mouseover_closure(tooltip) {\n        return function (event) {\n            if (!event.currentTarget.disabled) {\n                return fig.toolbar_button_onmouseover(tooltip);\n            }\n        };\n    }\n\n    fig.buttons = {};\n    var buttonGroup = document.createElement('div');\n    buttonGroup.classList = 'mpl-button-group';\n    for (var toolbar_ind in mpl.toolbar_items) {\n        var name = mpl.toolbar_items[toolbar_ind][0];\n        var tooltip = mpl.toolbar_items[toolbar_ind][1];\n        var image = mpl.toolbar_items[toolbar_ind][2];\n        var method_name = mpl.toolbar_items[toolbar_ind][3];\n\n        if (!name) {\n            /* Instead of a spacer, we start a new button group. */\n            if (buttonGroup.hasChildNodes()) {\n                toolbar.appendChild(buttonGroup);\n            }\n            buttonGroup = document.createElement('div');\n            buttonGroup.classList = 'mpl-button-group';\n            continue;\n        }\n\n        var button = (fig.buttons[name] = document.createElement('button'));\n        button.classList = 'mpl-widget';\n        button.setAttribute('role', 'button');\n        button.setAttribute('aria-disabled', 'false');\n        button.addEventListener('click', on_click_closure(method_name));\n        button.addEventListener('mouseover', on_mouseover_closure(tooltip));\n\n        var icon_img = document.createElement('img');\n        icon_img.src = '_images/' + image + '.png';\n        icon_img.srcset = '_images/' + image + '_large.png 2x';\n        icon_img.alt = tooltip;\n        button.appendChild(icon_img);\n\n        buttonGroup.appendChild(button);\n    }\n\n    if (buttonGroup.hasChildNodes()) {\n        toolbar.appendChild(buttonGroup);\n    }\n\n    var fmt_picker = document.createElement('select');\n    fmt_picker.classList = 'mpl-widget';\n    toolbar.appendChild(fmt_picker);\n    this.format_dropdown = fmt_picker;\n\n    for (var ind in mpl.extensions) {\n        var fmt = mpl.extensions[ind];\n        var option = document.createElement('option');\n        option.selected = fmt === mpl.default_extension;\n        option.innerHTML = fmt;\n        fmt_picker.appendChild(option);\n    }\n\n    var status_bar = document.createElement('span');\n    status_bar.classList = 'mpl-message';\n    toolbar.appendChild(status_bar);\n    this.message = status_bar;\n};\n\nmpl.figure.prototype.request_resize = function (x_pixels, y_pixels) {\n    // Request matplotlib to resize the figure. Matplotlib will then trigger a resize in the client,\n    // which will in turn request a refresh of the image.\n    this.send_message('resize', { width: x_pixels, height: y_pixels });\n};\n\nmpl.figure.prototype.send_message = function (type, properties) {\n    properties['type'] = type;\n    properties['figure_id'] = this.id;\n    this.ws.send(JSON.stringify(properties));\n};\n\nmpl.figure.prototype.send_draw_message = function () {\n    if (!this.waiting) {\n        this.waiting = true;\n        this.ws.send(JSON.stringify({ type: 'draw', figure_id: this.id }));\n    }\n};\n\nmpl.figure.prototype.handle_save = function (fig, _msg) {\n    var format_dropdown = fig.format_dropdown;\n    var format = format_dropdown.options[format_dropdown.selectedIndex].value;\n    fig.ondownload(fig, format);\n};\n\nmpl.figure.prototype.handle_resize = function (fig, msg) {\n    var size = msg['size'];\n    if (size[0] !== fig.canvas.width || size[1] !== fig.canvas.height) {\n        fig._resize_canvas(size[0], size[1], msg['forward']);\n        fig.send_message('refresh', {});\n    }\n};\n\nmpl.figure.prototype.handle_rubberband = function (fig, msg) {\n    var x0 = msg['x0'] / fig.ratio;\n    var y0 = (fig.canvas.height - msg['y0']) / fig.ratio;\n    var x1 = msg['x1'] / fig.ratio;\n    var y1 = (fig.canvas.height - msg['y1']) / fig.ratio;\n    x0 = Math.floor(x0) + 0.5;\n    y0 = Math.floor(y0) + 0.5;\n    x1 = Math.floor(x1) + 0.5;\n    y1 = Math.floor(y1) + 0.5;\n    var min_x = Math.min(x0, x1);\n    var min_y = Math.min(y0, y1);\n    var width = Math.abs(x1 - x0);\n    var height = Math.abs(y1 - y0);\n\n    fig.rubberband_context.clearRect(\n        0,\n        0,\n        fig.canvas.width / fig.ratio,\n        fig.canvas.height / fig.ratio\n    );\n\n    fig.rubberband_context.strokeRect(min_x, min_y, width, height);\n};\n\nmpl.figure.prototype.handle_figure_label = function (fig, msg) {\n    // Updates the figure title.\n    fig.header.textContent = msg['label'];\n};\n\nmpl.figure.prototype.handle_cursor = function (fig, msg) {\n    var cursor = msg['cursor'];\n    switch (cursor) {\n        case 0:\n            cursor = 'pointer';\n            break;\n        case 1:\n            cursor = 'default';\n            break;\n        case 2:\n            cursor = 'crosshair';\n            break;\n        case 3:\n            cursor = 'move';\n            break;\n    }\n    fig.rubberband_canvas.style.cursor = cursor;\n};\n\nmpl.figure.prototype.handle_message = function (fig, msg) {\n    fig.message.textContent = msg['message'];\n};\n\nmpl.figure.prototype.handle_draw = function (fig, _msg) {\n    // Request the server to send over a new figure.\n    fig.send_draw_message();\n};\n\nmpl.figure.prototype.handle_image_mode = function (fig, msg) {\n    fig.image_mode = msg['mode'];\n};\n\nmpl.figure.prototype.handle_history_buttons = function (fig, msg) {\n    for (var key in msg) {\n        if (!(key in fig.buttons)) {\n            continue;\n        }\n        fig.buttons[key].disabled = !msg[key];\n        fig.buttons[key].setAttribute('aria-disabled', !msg[key]);\n    }\n};\n\nmpl.figure.prototype.handle_navigate_mode = function (fig, msg) {\n    if (msg['mode'] === 'PAN') {\n        fig.buttons['Pan'].classList.add('active');\n        fig.buttons['Zoom'].classList.remove('active');\n    } else if (msg['mode'] === 'ZOOM') {\n        fig.buttons['Pan'].classList.remove('active');\n        fig.buttons['Zoom'].classList.add('active');\n    } else {\n        fig.buttons['Pan'].classList.remove('active');\n        fig.buttons['Zoom'].classList.remove('active');\n    }\n};\n\nmpl.figure.prototype.updated_canvas_event = function () {\n    // Called whenever the canvas gets updated.\n    this.send_message('ack', {});\n};\n\n// A function to construct a web socket function for onmessage handling.\n// Called in the figure constructor.\nmpl.figure.prototype._make_on_message_function = function (fig) {\n    return function socket_on_message(evt) {\n        if (evt.data instanceof Blob) {\n            var img = evt.data;\n            if (img.type !== 'image/png') {\n                /* FIXME: We get \"Resource interpreted as Image but\n                 * transferred with MIME type text/plain:\" errors on\n                 * Chrome.  But how to set the MIME type?  It doesn't seem\n                 * to be part of the websocket stream */\n                img.type = 'image/png';\n            }\n\n            /* Free the memory for the previous frames */\n            if (fig.imageObj.src) {\n                (window.URL || window.webkitURL).revokeObjectURL(\n                    fig.imageObj.src\n                );\n            }\n\n            fig.imageObj.src = (window.URL || window.webkitURL).createObjectURL(\n                img\n            );\n            fig.updated_canvas_event();\n            fig.waiting = false;\n            return;\n        } else if (\n            typeof evt.data === 'string' &&\n            evt.data.slice(0, 21) === 'data:image/png;base64'\n        ) {\n            fig.imageObj.src = evt.data;\n            fig.updated_canvas_event();\n            fig.waiting = false;\n            return;\n        }\n\n        var msg = JSON.parse(evt.data);\n        var msg_type = msg['type'];\n\n        // Call the  \"handle_{type}\" callback, which takes\n        // the figure and JSON message as its only arguments.\n        try {\n            var callback = fig['handle_' + msg_type];\n        } catch (e) {\n            console.log(\n                \"No handler for the '\" + msg_type + \"' message type: \",\n                msg\n            );\n            return;\n        }\n\n        if (callback) {\n            try {\n                // console.log(\"Handling '\" + msg_type + \"' message: \", msg);\n                callback(fig, msg);\n            } catch (e) {\n                console.log(\n                    \"Exception inside the 'handler_\" + msg_type + \"' callback:\",\n                    e,\n                    e.stack,\n                    msg\n                );\n            }\n        }\n    };\n};\n\n// from http://stackoverflow.com/questions/1114465/getting-mouse-location-in-canvas\nmpl.findpos = function (e) {\n    //this section is from http://www.quirksmode.org/js/events_properties.html\n    var targ;\n    if (!e) {\n        e = window.event;\n    }\n    if (e.target) {\n        targ = e.target;\n    } else if (e.srcElement) {\n        targ = e.srcElement;\n    }\n    if (targ.nodeType === 3) {\n        // defeat Safari bug\n        targ = targ.parentNode;\n    }\n\n    // pageX,Y are the mouse positions relative to the document\n    var boundingRect = targ.getBoundingClientRect();\n    var x = e.pageX - (boundingRect.left + document.body.scrollLeft);\n    var y = e.pageY - (boundingRect.top + document.body.scrollTop);\n\n    return { x: x, y: y };\n};\n\n/*\n * return a copy of an object with only non-object keys\n * we need this to avoid circular references\n * http://stackoverflow.com/a/24161582/3208463\n */\nfunction simpleKeys(original) {\n    return Object.keys(original).reduce(function (obj, key) {\n        if (typeof original[key] !== 'object') {\n            obj[key] = original[key];\n        }\n        return obj;\n    }, {});\n}\n\nmpl.figure.prototype.mouse_event = function (event, name) {\n    var canvas_pos = mpl.findpos(event);\n\n    if (name === 'button_press') {\n        this.canvas.focus();\n        this.canvas_div.focus();\n    }\n\n    var x = canvas_pos.x * this.ratio;\n    var y = canvas_pos.y * this.ratio;\n\n    this.send_message(name, {\n        x: x,\n        y: y,\n        button: event.button,\n        step: event.step,\n        guiEvent: simpleKeys(event),\n    });\n\n    /* This prevents the web browser from automatically changing to\n     * the text insertion cursor when the button is pressed.  We want\n     * to control all of the cursor setting manually through the\n     * 'cursor' event from matplotlib */\n    event.preventDefault();\n    return false;\n};\n\nmpl.figure.prototype._key_event_extra = function (_event, _name) {\n    // Handle any extra behaviour associated with a key event\n};\n\nmpl.figure.prototype.key_event = function (event, name) {\n    // Prevent repeat events\n    if (name === 'key_press') {\n        if (event.key === this._key) {\n            return;\n        } else {\n            this._key = event.key;\n        }\n    }\n    if (name === 'key_release') {\n        this._key = null;\n    }\n\n    var value = '';\n    if (event.ctrlKey && event.key !== 'Control') {\n        value += 'ctrl+';\n    }\n    else if (event.altKey && event.key !== 'Alt') {\n        value += 'alt+';\n    }\n    else if (event.shiftKey && event.key !== 'Shift') {\n        value += 'shift+';\n    }\n\n    value += 'k' + event.key;\n\n    this._key_event_extra(event, name);\n\n    this.send_message(name, { key: value, guiEvent: simpleKeys(event) });\n    return false;\n};\n\nmpl.figure.prototype.toolbar_button_onclick = function (name) {\n    if (name === 'download') {\n        this.handle_save(this, null);\n    } else {\n        this.send_message('toolbar_button', { name: name });\n    }\n};\n\nmpl.figure.prototype.toolbar_button_onmouseover = function (tooltip) {\n    this.message.textContent = tooltip;\n};\n\n///////////////// REMAINING CONTENT GENERATED BY embed_js.py /////////////////\n// prettier-ignore\nvar _JSXTOOLS_RESIZE_OBSERVER=function(A){var t,i=new WeakMap,n=new WeakMap,a=new WeakMap,r=new WeakMap,o=new Set;function s(e){if(!(this instanceof s))throw new TypeError(\"Constructor requires 'new' operator\");i.set(this,e)}function h(){throw new TypeError(\"Function is not a constructor\")}function c(e,t,i,n){e=0 in arguments?Number(arguments[0]):0,t=1 in arguments?Number(arguments[1]):0,i=2 in arguments?Number(arguments[2]):0,n=3 in arguments?Number(arguments[3]):0,this.right=(this.x=this.left=e)+(this.width=i),this.bottom=(this.y=this.top=t)+(this.height=n),Object.freeze(this)}function d(){t=requestAnimationFrame(d);var s=new WeakMap,p=new Set;o.forEach((function(t){r.get(t).forEach((function(i){var r=t instanceof window.SVGElement,o=a.get(t),d=r?0:parseFloat(o.paddingTop),f=r?0:parseFloat(o.paddingRight),l=r?0:parseFloat(o.paddingBottom),u=r?0:parseFloat(o.paddingLeft),g=r?0:parseFloat(o.borderTopWidth),m=r?0:parseFloat(o.borderRightWidth),w=r?0:parseFloat(o.borderBottomWidth),b=u+f,F=d+l,v=(r?0:parseFloat(o.borderLeftWidth))+m,W=g+w,y=r?0:t.offsetHeight-W-t.clientHeight,E=r?0:t.offsetWidth-v-t.clientWidth,R=b+v,z=F+W,M=r?t.width:parseFloat(o.width)-R-E,O=r?t.height:parseFloat(o.height)-z-y;if(n.has(t)){var k=n.get(t);if(k[0]===M&&k[1]===O)return}n.set(t,[M,O]);var S=Object.create(h.prototype);S.target=t,S.contentRect=new c(u,d,M,O),s.has(i)||(s.set(i,[]),p.add(i)),s.get(i).push(S)}))})),p.forEach((function(e){i.get(e).call(e,s.get(e),e)}))}return s.prototype.observe=function(i){if(i instanceof window.Element){r.has(i)||(r.set(i,new Set),o.add(i),a.set(i,window.getComputedStyle(i)));var n=r.get(i);n.has(this)||n.add(this),cancelAnimationFrame(t),t=requestAnimationFrame(d)}},s.prototype.unobserve=function(i){if(i instanceof window.Element&&r.has(i)){var n=r.get(i);n.has(this)&&(n.delete(this),n.size||(r.delete(i),o.delete(i))),n.size||r.delete(i),o.size||cancelAnimationFrame(t)}},A.DOMRectReadOnly=c,A.ResizeObserver=s,A.ResizeObserverEntry=h,A}; // eslint-disable-line\nmpl.toolbar_items = [[\"Home\", \"Reset original view\", \"fa fa-home icon-home\", \"home\"], [\"Back\", \"Back to previous view\", \"fa fa-arrow-left icon-arrow-left\", \"back\"], [\"Forward\", \"Forward to next view\", \"fa fa-arrow-right icon-arrow-right\", \"forward\"], [\"\", \"\", \"\", \"\"], [\"Pan\", \"Left button pans, Right button zooms\\nx/y fixes axis, CTRL fixes aspect\", \"fa fa-arrows icon-move\", \"pan\"], [\"Zoom\", \"Zoom to rectangle\\nx/y fixes axis, CTRL fixes aspect\", \"fa fa-square-o icon-check-empty\", \"zoom\"], [\"\", \"\", \"\", \"\"], [\"Download\", \"Download plot\", \"fa fa-floppy-o icon-save\", \"download\"]];\n\nmpl.extensions = [\"eps\", \"jpeg\", \"pgf\", \"pdf\", \"png\", \"ps\", \"raw\", \"svg\", \"tif\"];\n\nmpl.default_extension = \"png\";/* global mpl */\n\nvar comm_websocket_adapter = function (comm) {\n    // Create a \"websocket\"-like object which calls the given IPython comm\n    // object with the appropriate methods. Currently this is a non binary\n    // socket, so there is still some room for performance tuning.\n    var ws = {};\n\n    ws.binaryType = comm.kernel.ws.binaryType;\n    ws.readyState = comm.kernel.ws.readyState;\n    function updateReadyState(_event) {\n        if (comm.kernel.ws) {\n            ws.readyState = comm.kernel.ws.readyState;\n        } else {\n            ws.readyState = 3; // Closed state.\n        }\n    }\n    comm.kernel.ws.addEventListener('open', updateReadyState);\n    comm.kernel.ws.addEventListener('close', updateReadyState);\n    comm.kernel.ws.addEventListener('error', updateReadyState);\n\n    ws.close = function () {\n        comm.close();\n    };\n    ws.send = function (m) {\n        //console.log('sending', m);\n        comm.send(m);\n    };\n    // Register the callback with on_msg.\n    comm.on_msg(function (msg) {\n        //console.log('receiving', msg['content']['data'], msg);\n        var data = msg['content']['data'];\n        if (data['blob'] !== undefined) {\n            data = {\n                data: new Blob(msg['buffers'], { type: data['blob'] }),\n            };\n        }\n        // Pass the mpl event to the overridden (by mpl) onmessage function.\n        ws.onmessage(data);\n    });\n    return ws;\n};\n\nmpl.mpl_figure_comm = function (comm, msg) {\n    // This is the function which gets called when the mpl process\n    // starts-up an IPython Comm through the \"matplotlib\" channel.\n\n    var id = msg.content.data.id;\n    // Get hold of the div created by the display call when the Comm\n    // socket was opened in Python.\n    var element = document.getElementById(id);\n    var ws_proxy = comm_websocket_adapter(comm);\n\n    function ondownload(figure, _format) {\n        window.open(figure.canvas.toDataURL());\n    }\n\n    var fig = new mpl.figure(id, ws_proxy, ondownload, element);\n\n    // Call onopen now - mpl needs it, as it is assuming we've passed it a real\n    // web socket which is closed, not our websocket->open comm proxy.\n    ws_proxy.onopen();\n\n    fig.parent_element = element;\n    fig.cell_info = mpl.find_output_cell(\"<div id='\" + id + \"'></div>\");\n    if (!fig.cell_info) {\n        console.error('Failed to find cell for figure', id, fig);\n        return;\n    }\n    fig.cell_info[0].output_area.element.on(\n        'cleared',\n        { fig: fig },\n        fig._remove_fig_handler\n    );\n};\n\nmpl.figure.prototype.handle_close = function (fig, msg) {\n    var width = fig.canvas.width / fig.ratio;\n    fig.cell_info[0].output_area.element.off(\n        'cleared',\n        fig._remove_fig_handler\n    );\n    fig.resizeObserverInstance.unobserve(fig.canvas_div);\n\n    // Update the output cell to use the data from the current canvas.\n    fig.push_to_output();\n    var dataURL = fig.canvas.toDataURL();\n    // Re-enable the keyboard manager in IPython - without this line, in FF,\n    // the notebook keyboard shortcuts fail.\n    IPython.keyboard_manager.enable();\n    fig.parent_element.innerHTML =\n        '<img src=\"' + dataURL + '\" width=\"' + width + '\">';\n    fig.close_ws(fig, msg);\n};\n\nmpl.figure.prototype.close_ws = function (fig, msg) {\n    fig.send_message('closing', msg);\n    // fig.ws.close()\n};\n\nmpl.figure.prototype.push_to_output = function (_remove_interactive) {\n    // Turn the data on the canvas into data in the output cell.\n    var width = this.canvas.width / this.ratio;\n    var dataURL = this.canvas.toDataURL();\n    this.cell_info[1]['text/html'] =\n        '<img src=\"' + dataURL + '\" width=\"' + width + '\">';\n};\n\nmpl.figure.prototype.updated_canvas_event = function () {\n    // Tell IPython that the notebook contents must change.\n    IPython.notebook.set_dirty(true);\n    this.send_message('ack', {});\n    var fig = this;\n    // Wait a second, then push the new image to the DOM so\n    // that it is saved nicely (might be nice to debounce this).\n    setTimeout(function () {\n        fig.push_to_output();\n    }, 1000);\n};\n\nmpl.figure.prototype._init_toolbar = function () {\n    var fig = this;\n\n    var toolbar = document.createElement('div');\n    toolbar.classList = 'btn-toolbar';\n    this.root.appendChild(toolbar);\n\n    function on_click_closure(name) {\n        return function (_event) {\n            return fig.toolbar_button_onclick(name);\n        };\n    }\n\n    function on_mouseover_closure(tooltip) {\n        return function (event) {\n            if (!event.currentTarget.disabled) {\n                return fig.toolbar_button_onmouseover(tooltip);\n            }\n        };\n    }\n\n    fig.buttons = {};\n    var buttonGroup = document.createElement('div');\n    buttonGroup.classList = 'btn-group';\n    var button;\n    for (var toolbar_ind in mpl.toolbar_items) {\n        var name = mpl.toolbar_items[toolbar_ind][0];\n        var tooltip = mpl.toolbar_items[toolbar_ind][1];\n        var image = mpl.toolbar_items[toolbar_ind][2];\n        var method_name = mpl.toolbar_items[toolbar_ind][3];\n\n        if (!name) {\n            /* Instead of a spacer, we start a new button group. */\n            if (buttonGroup.hasChildNodes()) {\n                toolbar.appendChild(buttonGroup);\n            }\n            buttonGroup = document.createElement('div');\n            buttonGroup.classList = 'btn-group';\n            continue;\n        }\n\n        button = fig.buttons[name] = document.createElement('button');\n        button.classList = 'btn btn-default';\n        button.href = '#';\n        button.title = name;\n        button.innerHTML = '<i class=\"fa ' + image + ' fa-lg\"></i>';\n        button.addEventListener('click', on_click_closure(method_name));\n        button.addEventListener('mouseover', on_mouseover_closure(tooltip));\n        buttonGroup.appendChild(button);\n    }\n\n    if (buttonGroup.hasChildNodes()) {\n        toolbar.appendChild(buttonGroup);\n    }\n\n    // Add the status bar.\n    var status_bar = document.createElement('span');\n    status_bar.classList = 'mpl-message pull-right';\n    toolbar.appendChild(status_bar);\n    this.message = status_bar;\n\n    // Add the close button to the window.\n    var buttongrp = document.createElement('div');\n    buttongrp.classList = 'btn-group inline pull-right';\n    button = document.createElement('button');\n    button.classList = 'btn btn-mini btn-primary';\n    button.href = '#';\n    button.title = 'Stop Interaction';\n    button.innerHTML = '<i class=\"fa fa-power-off icon-remove icon-large\"></i>';\n    button.addEventListener('click', function (_evt) {\n        fig.handle_close(fig, {});\n    });\n    button.addEventListener(\n        'mouseover',\n        on_mouseover_closure('Stop Interaction')\n    );\n    buttongrp.appendChild(button);\n    var titlebar = this.root.querySelector('.ui-dialog-titlebar');\n    titlebar.insertBefore(buttongrp, titlebar.firstChild);\n};\n\nmpl.figure.prototype._remove_fig_handler = function (event) {\n    var fig = event.data.fig;\n    if (event.target !== this) {\n        // Ignore bubbled events from children.\n        return;\n    }\n    fig.close_ws(fig, {});\n};\n\nmpl.figure.prototype._root_extra_style = function (el) {\n    el.style.boxSizing = 'content-box'; // override notebook setting of border-box.\n};\n\nmpl.figure.prototype._canvas_extra_style = function (el) {\n    // this is important to make the div 'focusable\n    el.setAttribute('tabindex', 0);\n    // reach out to IPython and tell the keyboard manager to turn it's self\n    // off when our div gets focus\n\n    // location in version 3\n    if (IPython.notebook.keyboard_manager) {\n        IPython.notebook.keyboard_manager.register_events(el);\n    } else {\n        // location in version 2\n        IPython.keyboard_manager.register_events(el);\n    }\n};\n\nmpl.figure.prototype._key_event_extra = function (event, _name) {\n    var manager = IPython.notebook.keyboard_manager;\n    if (!manager) {\n        manager = IPython.keyboard_manager;\n    }\n\n    // Check for shift+enter\n    if (event.shiftKey && event.which === 13) {\n        this.canvas_div.blur();\n        // select the cell after this one\n        var index = IPython.notebook.find_cell_index(this.cell_info[0]);\n        IPython.notebook.select(index + 1);\n    }\n};\n\nmpl.figure.prototype.handle_save = function (fig, _msg) {\n    fig.ondownload(fig, null);\n};\n\nmpl.find_output_cell = function (html_output) {\n    // Return the cell and output element which can be found *uniquely* in the notebook.\n    // Note - this is a bit hacky, but it is done because the \"notebook_saving.Notebook\"\n    // IPython event is triggered only after the cells have been serialised, which for\n    // our purposes (turning an active figure into a static one), is too late.\n    var cells = IPython.notebook.get_cells();\n    var ncells = cells.length;\n    for (var i = 0; i < ncells; i++) {\n        var cell = cells[i];\n        if (cell.cell_type === 'code') {\n            for (var j = 0; j < cell.output_area.outputs.length; j++) {\n                var data = cell.output_area.outputs[j];\n                if (data.data) {\n                    // IPython >= 3 moved mimebundle to data attribute of output\n                    data = data.data;\n                }\n                if (data['text/html'] === html_output) {\n                    return [cell, data, j];\n                }\n            }\n        }\n    }\n};\n\n// Register the function which deals with the matplotlib target/channel.\n// The kernel may be null if the page has been refreshed.\nif (IPython.notebook.kernel !== null) {\n    IPython.notebook.kernel.comm_manager.register_target(\n        'matplotlib',\n        mpl.mpl_figure_comm\n    );\n}\n",
      "text/plain": [
       "<IPython.core.display.Javascript object>"
      ]
     },
     "metadata": {},
     "output_type": "display_data"
    },
    {
     "data": {
      "text/html": [
       "<div id='1d62531a-2475-44f7-96a3-4e81d8e44b5b'></div>"
      ],
      "text/plain": [
       "<IPython.core.display.HTML object>"
      ]
     },
     "metadata": {},
     "output_type": "display_data"
    },
    {
     "data": {
      "text/plain": [
       "array([[<AxesSubplot:title={'center':'rain_level'}>,\n",
       "        <AxesSubplot:title={'center':'average_flow'}>],\n",
       "       [<AxesSubplot:title={'center':'temperature'}>,\n",
       "        <AxesSubplot:title={'center':'wind_speed'}>],\n",
       "       [<AxesSubplot:title={'center':'wind_gust_speed'}>, <AxesSubplot:>]],\n",
       "      dtype=object)"
      ]
     },
     "execution_count": 6,
     "metadata": {},
     "output_type": "execute_result"
    }
   ],
   "source": [
    "x_train.hist(['rain_level','average_flow','temperature','wind_speed','wind_gust_speed'])"
   ]
  },
  {
   "cell_type": "markdown",
   "metadata": {
    "collapsed": false,
    "pycharm": {
     "name": "#%% md\n"
    }
   },
   "source": []
  },
  {
   "cell_type": "markdown",
   "metadata": {
    "collapsed": false
   },
   "source": [
    "## Prepration of exogene variables"
   ]
  },
  {
   "cell_type": "code",
   "execution_count": 7,
   "metadata": {
    "collapsed": false,
    "pycharm": {
     "name": "#%%\n"
    }
   },
   "outputs": [],
   "source": [
    "x_train.temperature.fillna(method='ffill',inplace=True)\n",
    "x_train.rain_level.fillna(method='ffill',inplace=True)\n",
    "x_train.average_flow.fillna(method='ffill',inplace=True)\n",
    "x_train.wind_speed.fillna(method='ffill',inplace=True)\n",
    "x_train.wind_gust_speed.fillna(method='ffill',inplace=True)\n",
    "x_train.traffic_state.fillna(method='ffill',inplace=True)\n",
    "reps={'Available':4,'Charging':3,'Passive':2,'Offline':1,'Down':0}\n",
    "x_test.temperature.fillna(method='ffill',inplace=True)\n",
    "x_test.rain_level.fillna(method='ffill',inplace=True)\n",
    "x_test.average_flow.fillna(method='ffill',inplace=True)\n",
    "x_test.wind_speed.fillna(method='ffill',inplace=True)\n",
    "x_test.wind_gust_speed.fillna(method='ffill',inplace=True)\n",
    "x_test.traffic_state.fillna(method='ffill',inplace=True)\n",
    "\n",
    "# clean={i:reps for i in y_train.columns[1:]}\n",
    "# y_train.replace(clean,inplace=True)\n",
    "\n",
    "x_train.replace({'traffic_state':{'Fluid':0,\"Busy\":1,\"Heavy\":2}},inplace=True)\n",
    "x_test.replace({'traffic_state':{'Fluid':0,\"Busy\":1,\"Heavy\":2}},inplace=True)"
   ]
  },
  {
   "cell_type": "markdown",
   "metadata": {
    "collapsed": false
   },
   "source": [
    "## Preparation of the the target values"
   ]
  },
  {
   "cell_type": "code",
   "execution_count": 8,
   "metadata": {
    "collapsed": false,
    "pycharm": {
     "name": "#%%\n"
    }
   },
   "outputs": [],
   "source": [
    "y_doom=pd.get_dummies(y_train.drop(['timestamp'],axis='columns'))\n",
    "states=['Available','Charging','Passive','Offline','Down']\n",
    "cols=list(y_train.drop(['timestamp'],axis='columns').columns)\n",
    "doom_cols=[i+'_'+j for i in cols for j in states]\n",
    "for i in doom_cols:\n",
    "    if i not in  list(y_doom.columns):\n",
    "        y_doom[i]=0\n",
    "y_doom=y_doom[doom_cols]\n",
    "y_doom['timestamp']=pd.to_datetime(y_train.timestamp)\n",
    "y_doom.set_index('timestamp',inplace=True)"
   ]
  },
  {
   "cell_type": "code",
   "execution_count": 9,
   "metadata": {
    "collapsed": false,
    "pycharm": {
     "name": "#%%\n"
    }
   },
   "outputs": [],
   "source": [
    "idx=pd.date_range(list(y_doom.index)[0],list(y_doom.index)[-1],freq=\"H\")[~pd.date_range(list(y_doom.index)[0],list(y_doom.index)[-1],freq=\"H\").isin(y_doom.index)]\n",
    "pd.DataFrame({i:np.nan for i in y_doom.columns},index=idx)\n",
    "y_doom=y_doom.append(pd.DataFrame({i:np.nan for i in y_doom.columns},index=idx)).sort_index()\n",
    "#  Forward fill for the missing values\n",
    "y_doom.fillna(method='ffill',inplace=True)"
   ]
  },
  {
   "cell_type": "code",
   "execution_count": 10,
   "metadata": {
    "collapsed": false,
    "pycharm": {
     "name": "#%%\n"
    }
   },
   "outputs": [],
   "source": [
    "def prepare_ts_date(df,look_back=1):\n",
    "    dataX, dataY = [], []\n",
    "    for i in range(len(df)-look_back-1):\n",
    "        a = df.iloc[i:(i+look_back)].to_numpy()\n",
    "        dataX.append(a)\n",
    "        dataY.append(df.iloc[i + look_back])\n",
    "    return np.array(dataX), np.array(dataY)"
   ]
  },
  {
   "cell_type": "code",
   "execution_count": 11,
   "metadata": {
    "collapsed": false,
    "pycharm": {
     "name": "#%%\n"
    }
   },
   "outputs": [],
   "source": [
    "x,y=prepare_ts_date(y_doom,1)\n"
   ]
  },
  {
   "cell_type": "code",
   "execution_count": 12,
   "metadata": {
    "collapsed": false,
    "pycharm": {
     "name": "#%%\n"
    }
   },
   "outputs": [
    {
     "data": {
      "text/plain": [
       "(8398, 1, 1365)"
      ]
     },
     "execution_count": 12,
     "metadata": {},
     "output_type": "execute_result"
    }
   ],
   "source": [
    "x.shape"
   ]
  },
  {
   "cell_type": "code",
   "execution_count": 25,
   "metadata": {
    "collapsed": false,
    "pycharm": {
     "name": "#%%\n"
    }
   },
   "outputs": [],
   "source": [
    "# x_train.drop(['timestamp'],axis='columns',inplace=True)\n",
    "# X_train, X_val, Y_train, Y_val = train_test_split(x_train, y_doom)\n",
    "model= tf.keras.models.Sequential([\n",
    "    tf.keras.layers.LSTM(300, input_shape=(x.shape[1],x.shape[2]),return_sequences=True),\n",
    "    tf.keras.layers.LSTM(300,return_sequences=True),\n",
    "    tf.keras.layers.Dense(1365,activation='softmax')\n",
    "\n",
    "])"
   ]
  },
  {
   "cell_type": "code",
   "execution_count": 26,
   "metadata": {
    "collapsed": false,
    "pycharm": {
     "name": "#%%\n"
    }
   },
   "outputs": [
    {
     "name": "stdout",
     "output_type": "stream",
     "text": [
      "Model: \"sequential_3\"\n",
      "_________________________________________________________________\n",
      " Layer (type)                Output Shape              Param #   \n",
      "=================================================================\n",
      " lstm_6 (LSTM)               (None, 1, 300)            1999200   \n",
      "                                                                 \n",
      " lstm_7 (LSTM)               (None, 1, 300)            721200    \n",
      "                                                                 \n",
      " dense_5 (Dense)             (None, 1, 1365)           410865    \n",
      "                                                                 \n",
      "=================================================================\n",
      "Total params: 3,131,265\n",
      "Trainable params: 3,131,265\n",
      "Non-trainable params: 0\n",
      "_________________________________________________________________\n"
     ]
    }
   ],
   "source": [
    "model.summary()"
   ]
  },
  {
   "cell_type": "code",
   "execution_count": 27,
   "metadata": {
    "collapsed": false,
    "pycharm": {
     "name": "#%%\n"
    }
   },
   "outputs": [],
   "source": [
    "model.compile(optimizer='adam',loss=\"categorical_crossentropy\",metrics=[\"acc\"])\n"
   ]
  },
  {
   "cell_type": "markdown",
   "metadata": {
    "collapsed": false
   },
   "source": []
  },
  {
   "cell_type": "code",
   "execution_count": 28,
   "metadata": {
    "collapsed": false,
    "pycharm": {
     "name": "#%%\n"
    }
   },
   "outputs": [
    {
     "name": "stdout",
     "output_type": "stream",
     "text": [
      "Epoch 1/200\n",
      "263/263 [==============================] - 12s 34ms/step - loss: 1863.3699 - acc: 0.0000e+00\n",
      "Epoch 2/200\n",
      "263/263 [==============================] - 7s 27ms/step - loss: 2243.1328 - acc: 0.0000e+00\n",
      "Epoch 3/200\n",
      "263/263 [==============================] - 6s 23ms/step - loss: 2667.6387 - acc: 0.0000e+00\n",
      "Epoch 4/200\n",
      "263/263 [==============================] - 6s 24ms/step - loss: 3111.1052 - acc: 0.0000e+00\n",
      "Epoch 5/200\n",
      "263/263 [==============================] - 7s 25ms/step - loss: 3562.3196 - acc: 0.0000e+00\n",
      "Epoch 6/200\n",
      "263/263 [==============================] - 6s 24ms/step - loss: 4010.3467 - acc: 0.0000e+00\n",
      "Epoch 7/200\n",
      "263/263 [==============================] - 5s 21ms/step - loss: 4477.3262 - acc: 0.0000e+00\n",
      "Epoch 8/200\n",
      "263/263 [==============================] - 6s 21ms/step - loss: 4940.4751 - acc: 0.0000e+00\n",
      "Epoch 9/200\n",
      "263/263 [==============================] - 7s 25ms/step - loss: 5397.9121 - acc: 0.0000e+00\n",
      "Epoch 10/200\n",
      "263/263 [==============================] - 6s 25ms/step - loss: 5868.6201 - acc: 0.0000e+00\n",
      "Epoch 11/200\n",
      "263/263 [==============================] - 6s 22ms/step - loss: 6336.8706 - acc: 0.0000e+00\n",
      "Epoch 12/200\n",
      "263/263 [==============================] - 5s 19ms/step - loss: 6826.1265 - acc: 0.0000e+00\n",
      "Epoch 13/200\n",
      "263/263 [==============================] - 5s 20ms/step - loss: 7286.5483 - acc: 0.0000e+00\n",
      "Epoch 14/200\n",
      "263/263 [==============================] - 6s 22ms/step - loss: 7772.2700 - acc: 0.0000e+00\n",
      "Epoch 15/200\n",
      "263/263 [==============================] - 6s 23ms/step - loss: 8252.5830 - acc: 0.0000e+00\n",
      "Epoch 16/200\n",
      "263/263 [==============================] - 6s 22ms/step - loss: 8734.8896 - acc: 0.0000e+00\n",
      "Epoch 17/200\n",
      "263/263 [==============================] - 5s 19ms/step - loss: 9216.0625 - acc: 0.0000e+00\n",
      "Epoch 18/200\n",
      "263/263 [==============================] - 5s 19ms/step - loss: 9696.1562 - acc: 0.0000e+00\n",
      "Epoch 19/200\n",
      "263/263 [==============================] - 5s 21ms/step - loss: 10194.3496 - acc: 0.0000e+00\n",
      "Epoch 20/200\n",
      "263/263 [==============================] - 6s 23ms/step - loss: 10671.7627 - acc: 0.0000e+00\n",
      "Epoch 21/200\n",
      "263/263 [==============================] - 6s 24ms/step - loss: 11159.4121 - acc: 0.0000e+00\n",
      "Epoch 22/200\n",
      "263/263 [==============================] - 6s 24ms/step - loss: 11651.3115 - acc: 0.0000e+00\n",
      "Epoch 23/200\n",
      "263/263 [==============================] - 5s 20ms/step - loss: 12146.2490 - acc: 0.0000e+00\n",
      "Epoch 24/200\n",
      "263/263 [==============================] - 5s 19ms/step - loss: 12645.0156 - acc: 0.0000e+00\n",
      "Epoch 25/200\n",
      "263/263 [==============================] - 6s 21ms/step - loss: 13145.0518 - acc: 0.0000e+00\n",
      "Epoch 26/200\n",
      "263/263 [==============================] - 6s 23ms/step - loss: 13641.3320 - acc: 0.0000e+00\n",
      "Epoch 27/200\n",
      "263/263 [==============================] - 6s 23ms/step - loss: 14140.0000 - acc: 0.0000e+00\n",
      "Epoch 28/200\n",
      "263/263 [==============================] - 6s 21ms/step - loss: 14638.4023 - acc: 0.0000e+00\n",
      "Epoch 29/200\n",
      "263/263 [==============================] - 5s 19ms/step - loss: 15136.4707 - acc: 0.0000e+00\n",
      "Epoch 30/200\n",
      "263/263 [==============================] - 6s 21ms/step - loss: 15642.6270 - acc: 0.0000e+00\n",
      "Epoch 31/200\n",
      "263/263 [==============================] - 6s 23ms/step - loss: 16139.5283 - acc: 0.0000e+00\n",
      "Epoch 32/200\n",
      "263/263 [==============================] - 6s 23ms/step - loss: 16648.2051 - acc: 0.0000e+00\n",
      "Epoch 33/200\n",
      "263/263 [==============================] - 6s 22ms/step - loss: 17141.6621 - acc: 0.0000e+00\n",
      "Epoch 34/200\n",
      "263/263 [==============================] - 5s 19ms/step - loss: 17660.4238 - acc: 0.0000e+00\n",
      "Epoch 35/200\n",
      "263/263 [==============================] - 5s 19ms/step - loss: 18156.7051 - acc: 0.0000e+00\n",
      "Epoch 36/200\n",
      "263/263 [==============================] - 6s 22ms/step - loss: 18663.5078 - acc: 0.0000e+00\n",
      "Epoch 37/200\n",
      "263/263 [==============================] - 7s 26ms/step - loss: 19174.8281 - acc: 0.0000e+00\n",
      "Epoch 38/200\n",
      "263/263 [==============================] - 7s 26ms/step - loss: 19682.8633 - acc: 0.0000e+00\n",
      "Epoch 39/200\n",
      "263/263 [==============================] - 7s 25ms/step - loss: 20201.4766 - acc: 0.0000e+00\n",
      "Epoch 40/200\n",
      "263/263 [==============================] - 6s 22ms/step - loss: 20703.0586 - acc: 0.0000e+00\n",
      "Epoch 41/200\n",
      "263/263 [==============================] - 6s 23ms/step - loss: 21224.1992 - acc: 0.0000e+00\n",
      "Epoch 42/200\n",
      "263/263 [==============================] - 7s 25ms/step - loss: 21727.1680 - acc: 0.0000e+00\n",
      "Epoch 43/200\n",
      "263/263 [==============================] - 6s 25ms/step - loss: 22238.2617 - acc: 0.0000e+00\n",
      "Epoch 44/200\n",
      "263/263 [==============================] - 6s 23ms/step - loss: 22757.6270 - acc: 0.0000e+00\n",
      "Epoch 45/200\n",
      "263/263 [==============================] - 6s 22ms/step - loss: 23270.6680 - acc: 0.0000e+00\n",
      "Epoch 46/200\n",
      "263/263 [==============================] - 6s 25ms/step - loss: 23786.6523 - acc: 0.0000e+00\n",
      "Epoch 47/200\n",
      "263/263 [==============================] - 6s 25ms/step - loss: 24294.8320 - acc: 0.0000e+00\n",
      "Epoch 48/200\n",
      "263/263 [==============================] - 7s 25ms/step - loss: 24818.8555 - acc: 0.0000e+00\n",
      "Epoch 49/200\n",
      "263/263 [==============================] - 6s 22ms/step - loss: 25332.2363 - acc: 0.0000e+00\n",
      "Epoch 50/200\n",
      "263/263 [==============================] - 6s 22ms/step - loss: 25852.0156 - acc: 0.0000e+00\n",
      "Epoch 51/200\n",
      "263/263 [==============================] - 6s 23ms/step - loss: 26380.6992 - acc: 0.0000e+00\n",
      "Epoch 52/200\n",
      "263/263 [==============================] - 7s 25ms/step - loss: 26896.7383 - acc: 0.0000e+00\n",
      "Epoch 53/200\n",
      "263/263 [==============================] - 7s 25ms/step - loss: 27410.6484 - acc: 0.0000e+00\n",
      "Epoch 54/200\n",
      "263/263 [==============================] - 7s 26ms/step - loss: 27935.6230 - acc: 0.0000e+00\n",
      "Epoch 55/200\n",
      "263/263 [==============================] - 6s 22ms/step - loss: 28456.2012 - acc: 0.0000e+00\n",
      "Epoch 56/200\n",
      "263/263 [==============================] - 6s 23ms/step - loss: 28968.4551 - acc: 0.0000e+00\n",
      "Epoch 57/200\n",
      "263/263 [==============================] - 6s 24ms/step - loss: 29490.7891 - acc: 0.0000e+00\n",
      "Epoch 58/200\n",
      "263/263 [==============================] - 6s 25ms/step - loss: 30012.2148 - acc: 0.0000e+00\n",
      "Epoch 59/200\n",
      "263/263 [==============================] - 6s 23ms/step - loss: 30533.1816 - acc: 0.0000e+00\n",
      "Epoch 60/200\n",
      "263/263 [==============================] - 6s 22ms/step - loss: 31057.0879 - acc: 0.0000e+00\n",
      "Epoch 61/200\n",
      "263/263 [==============================] - 6s 24ms/step - loss: 31565.5352 - acc: 0.0000e+00\n",
      "Epoch 62/200\n",
      "263/263 [==============================] - 7s 25ms/step - loss: 32097.1855 - acc: 0.0000e+00\n",
      "Epoch 63/200\n",
      "263/263 [==============================] - 7s 25ms/step - loss: 32599.2129 - acc: 0.0000e+00\n",
      "Epoch 64/200\n",
      "263/263 [==============================] - 6s 22ms/step - loss: 33141.5195 - acc: 0.0000e+00\n",
      "Epoch 65/200\n",
      "263/263 [==============================] - 6s 22ms/step - loss: 33658.3516 - acc: 0.0000e+00\n",
      "Epoch 66/200\n",
      "263/263 [==============================] - 6s 23ms/step - loss: 34181.6797 - acc: 0.0000e+00\n",
      "Epoch 67/200\n",
      "263/263 [==============================] - 7s 25ms/step - loss: 34703.9727 - acc: 0.0000e+00\n",
      "Epoch 68/200\n",
      "263/263 [==============================] - 7s 26ms/step - loss: 35224.3906 - acc: 0.0000e+00\n",
      "Epoch 69/200\n",
      "263/263 [==============================] - 7s 25ms/step - loss: 35751.5312 - acc: 0.0000e+00\n",
      "Epoch 70/200\n",
      "263/263 [==============================] - 6s 23ms/step - loss: 36269.4492 - acc: 0.0000e+00\n",
      "Epoch 71/200\n",
      "263/263 [==============================] - 6s 22ms/step - loss: 36795.8594 - acc: 0.0000e+00\n",
      "Epoch 72/200\n",
      "263/263 [==============================] - 6s 25ms/step - loss: 37311.4766 - acc: 0.0000e+00\n",
      "Epoch 73/200\n",
      "263/263 [==============================] - 7s 25ms/step - loss: 37837.3750 - acc: 0.0000e+00\n",
      "Epoch 74/200\n",
      "263/263 [==============================] - 6s 25ms/step - loss: 38370.1523 - acc: 0.0000e+00\n",
      "Epoch 75/200\n",
      "263/263 [==============================] - 6s 22ms/step - loss: 38882.3906 - acc: 0.0000e+00\n",
      "Epoch 76/200\n",
      "263/263 [==============================] - 6s 23ms/step - loss: 39410.3984 - acc: 0.0000e+00\n",
      "Epoch 77/200\n",
      "263/263 [==============================] - 6s 25ms/step - loss: 39933.7656 - acc: 0.0000e+00\n",
      "Epoch 78/200\n",
      "263/263 [==============================] - 6s 25ms/step - loss: 40478.6680 - acc: 0.0000e+00\n",
      "Epoch 79/200\n",
      "263/263 [==============================] - 6s 23ms/step - loss: 40994.4609 - acc: 0.0000e+00\n",
      "Epoch 80/200\n",
      "263/263 [==============================] - 6s 22ms/step - loss: 41518.6641 - acc: 0.0000e+00\n",
      "Epoch 81/200\n",
      "263/263 [==============================] - 6s 22ms/step - loss: 42046.3047 - acc: 0.0000e+00\n",
      "Epoch 82/200\n",
      "263/263 [==============================] - 7s 25ms/step - loss: 42569.6094 - acc: 0.0000e+00\n",
      "Epoch 83/200\n",
      "263/263 [==============================] - 7s 26ms/step - loss: 43096.8672 - acc: 0.0000e+00\n",
      "Epoch 84/200\n",
      "263/263 [==============================] - 7s 25ms/step - loss: 43622.8828 - acc: 0.0000e+00\n",
      "Epoch 85/200\n",
      "263/263 [==============================] - 6s 23ms/step - loss: 44155.4258 - acc: 0.0000e+00\n",
      "Epoch 86/200\n",
      "263/263 [==============================] - 6s 22ms/step - loss: 44668.9258 - acc: 0.0000e+00\n",
      "Epoch 87/200\n",
      "263/263 [==============================] - 7s 25ms/step - loss: 45201.6719 - acc: 0.0000e+00\n",
      "Epoch 88/200\n",
      "263/263 [==============================] - 6s 25ms/step - loss: 45726.6914 - acc: 0.0000e+00\n",
      "Epoch 89/200\n",
      "263/263 [==============================] - 6s 24ms/step - loss: 46256.5078 - acc: 0.0000e+00\n",
      "Epoch 90/200\n",
      "263/263 [==============================] - 6s 22ms/step - loss: 46776.4844 - acc: 0.0000e+00\n",
      "Epoch 91/200\n",
      "263/263 [==============================] - 6s 24ms/step - loss: 47308.4375 - acc: 0.0000e+00\n",
      "Epoch 92/200\n",
      "263/263 [==============================] - 7s 25ms/step - loss: 47835.9570 - acc: 0.0000e+00\n",
      "Epoch 93/200\n",
      "263/263 [==============================] - 7s 25ms/step - loss: 48359.2266 - acc: 0.0000e+00\n",
      "Epoch 94/200\n",
      "263/263 [==============================] - 6s 23ms/step - loss: 48889.1875 - acc: 0.0000e+00\n",
      "Epoch 95/200\n",
      "263/263 [==============================] - 6s 22ms/step - loss: 49411.3672 - acc: 0.0000e+00\n",
      "Epoch 96/200\n",
      "263/263 [==============================] - 6s 22ms/step - loss: 49939.8242 - acc: 0.0000e+00\n",
      "Epoch 97/200\n",
      "263/263 [==============================] - 7s 26ms/step - loss: 50458.4570 - acc: 0.0000e+00\n",
      "Epoch 98/200\n",
      "263/263 [==============================] - 7s 26ms/step - loss: 50991.4570 - acc: 0.0000e+00\n",
      "Epoch 99/200\n",
      "263/263 [==============================] - 7s 26ms/step - loss: 51515.6602 - acc: 0.0000e+00\n",
      "Epoch 100/200\n",
      "263/263 [==============================] - 6s 22ms/step - loss: 52032.2148 - acc: 0.0000e+00\n",
      "Epoch 101/200\n",
      "263/263 [==============================] - 5s 19ms/step - loss: 52575.1836 - acc: 0.0000e+00\n",
      "Epoch 102/200\n",
      "263/263 [==============================] - 7s 28ms/step - loss: 53100.6133 - acc: 0.0000e+00\n",
      "Epoch 103/200\n",
      "263/263 [==============================] - 9s 32ms/step - loss: 53627.5078 - acc: 0.0000e+00\n",
      "Epoch 104/200\n",
      "263/263 [==============================] - 9s 33ms/step - loss: 54147.7695 - acc: 0.0000e+00\n",
      "Epoch 105/200\n",
      "263/263 [==============================] - 7s 26ms/step - loss: 54675.1914 - acc: 0.0000e+00\n",
      "Epoch 106/200\n",
      "263/263 [==============================] - 6s 21ms/step - loss: 55202.9453 - acc: 0.0000e+00\n",
      "Epoch 107/200\n",
      "263/263 [==============================] - 6s 21ms/step - loss: 55716.0781 - acc: 0.0000e+00\n",
      "Epoch 108/200\n",
      "263/263 [==============================] - 6s 22ms/step - loss: 56246.1445 - acc: 0.0000e+00\n",
      "Epoch 109/200\n",
      "263/263 [==============================] - 6s 22ms/step - loss: 56773.6562 - acc: 0.0000e+00\n",
      "Epoch 110/200\n",
      "263/263 [==============================] - 6s 22ms/step - loss: 57283.5977 - acc: 0.0000e+00\n",
      "Epoch 111/200\n",
      "263/263 [==============================] - 5s 20ms/step - loss: 57822.4453 - acc: 0.0000e+00\n",
      "Epoch 112/200\n",
      "263/263 [==============================] - 5s 20ms/step - loss: 58346.9922 - acc: 0.0000e+00\n",
      "Epoch 113/200\n",
      "263/263 [==============================] - 5s 20ms/step - loss: 58863.5977 - acc: 0.0000e+00\n",
      "Epoch 114/200\n",
      "263/263 [==============================] - 5s 20ms/step - loss: 59397.3086 - acc: 0.0000e+00\n",
      "Epoch 115/200\n",
      "263/263 [==============================] - 5s 20ms/step - loss: 59915.4258 - acc: 0.0000e+00\n",
      "Epoch 116/200\n",
      "263/263 [==============================] - 5s 20ms/step - loss: 60446.2969 - acc: 0.0000e+00\n",
      "Epoch 117/200\n",
      "263/263 [==============================] - 5s 20ms/step - loss: 60961.2461 - acc: 0.0000e+00\n",
      "Epoch 118/200\n",
      "263/263 [==============================] - 5s 20ms/step - loss: 61492.9609 - acc: 0.0000e+00\n",
      "Epoch 119/200\n",
      "263/263 [==============================] - 5s 20ms/step - loss: 62030.7383 - acc: 0.0000e+00\n",
      "Epoch 120/200\n",
      "263/263 [==============================] - 5s 20ms/step - loss: 62544.3750 - acc: 0.0000e+00\n",
      "Epoch 121/200\n",
      "263/263 [==============================] - 5s 20ms/step - loss: 63075.4961 - acc: 0.0000e+00\n",
      "Epoch 122/200\n",
      "263/263 [==============================] - 5s 20ms/step - loss: 63608.5352 - acc: 0.0000e+00\n",
      "Epoch 123/200\n",
      "263/263 [==============================] - 5s 20ms/step - loss: 64143.5078 - acc: 0.0000e+00\n",
      "Epoch 124/200\n",
      "263/263 [==============================] - 5s 21ms/step - loss: 64658.6797 - acc: 0.0000e+00\n",
      "Epoch 125/200\n",
      "263/263 [==============================] - 8s 30ms/step - loss: 65197.5430 - acc: 0.0000e+00\n",
      "Epoch 126/200\n",
      "263/263 [==============================] - 8s 32ms/step - loss: 65724.0156 - acc: 0.0000e+00\n",
      "Epoch 127/200\n",
      "263/263 [==============================] - 9s 32ms/step - loss: 66248.8359 - acc: 0.0000e+00\n",
      "Epoch 128/200\n",
      "263/263 [==============================] - 8s 32ms/step - loss: 66775.1484 - acc: 0.0000e+00\n",
      "Epoch 129/200\n",
      "263/263 [==============================] - 8s 29ms/step - loss: 67305.5234 - acc: 0.0000e+00\n",
      "Epoch 130/200\n",
      "263/263 [==============================] - 6s 23ms/step - loss: 67830.2734 - acc: 0.0000e+00\n",
      "Epoch 131/200\n",
      "263/263 [==============================] - 6s 21ms/step - loss: 68355.4062 - acc: 0.0000e+00\n",
      "Epoch 132/200\n",
      "263/263 [==============================] - 5s 20ms/step - loss: 68878.7109 - acc: 0.0000e+00\n",
      "Epoch 133/200\n",
      "263/263 [==============================] - 5s 21ms/step - loss: 69406.6328 - acc: 0.0000e+00\n",
      "Epoch 134/200\n",
      "263/263 [==============================] - 8s 30ms/step - loss: 69941.7031 - acc: 0.0000e+00\n",
      "Epoch 135/200\n",
      "263/263 [==============================] - 6s 22ms/step - loss: 70467.5234 - acc: 0.0000e+00\n",
      "Epoch 136/200\n",
      "263/263 [==============================] - 6s 22ms/step - loss: 71002.5078 - acc: 0.0000e+00\n",
      "Epoch 137/200\n",
      "263/263 [==============================] - 5s 20ms/step - loss: 71521.8672 - acc: 0.0000e+00\n",
      "Epoch 138/200\n",
      "263/263 [==============================] - 6s 21ms/step - loss: 72050.9609 - acc: 0.0000e+00\n",
      "Epoch 139/200\n",
      "263/263 [==============================] - 6s 21ms/step - loss: 72576.3672 - acc: 0.0000e+00\n",
      "Epoch 140/200\n",
      "263/263 [==============================] - 5s 21ms/step - loss: 73119.1484 - acc: 0.0000e+00\n",
      "Epoch 141/200\n",
      "263/263 [==============================] - 5s 20ms/step - loss: 73633.4219 - acc: 0.0000e+00\n",
      "Epoch 142/200\n",
      "263/263 [==============================] - 5s 20ms/step - loss: 74155.4375 - acc: 0.0000e+00\n",
      "Epoch 143/200\n",
      "263/263 [==============================] - 5s 20ms/step - loss: 74687.5312 - acc: 0.0000e+00\n",
      "Epoch 144/200\n",
      "263/263 [==============================] - 5s 20ms/step - loss: 75224.6719 - acc: 0.0000e+00\n",
      "Epoch 145/200\n",
      "263/263 [==============================] - 5s 19ms/step - loss: 75735.0469 - acc: 0.0000e+00\n",
      "Epoch 146/200\n",
      "263/263 [==============================] - 5s 19ms/step - loss: 76270.2500 - acc: 0.0000e+00\n",
      "Epoch 147/200\n",
      "263/263 [==============================] - 5s 19ms/step - loss: 76793.6094 - acc: 0.0000e+00\n",
      "Epoch 148/200\n",
      "263/263 [==============================] - 5s 21ms/step - loss: 77327.5938 - acc: 0.0000e+00\n",
      "Epoch 149/200\n",
      "263/263 [==============================] - 5s 20ms/step - loss: 77859.8594 - acc: 0.0000e+00\n",
      "Epoch 150/200\n",
      "263/263 [==============================] - 5s 20ms/step - loss: 78381.8672 - acc: 0.0000e+00\n",
      "Epoch 151/200\n",
      "263/263 [==============================] - 5s 19ms/step - loss: 78927.8047 - acc: 0.0000e+00\n",
      "Epoch 152/200\n",
      "263/263 [==============================] - 5s 20ms/step - loss: 79434.8594 - acc: 0.0000e+00\n",
      "Epoch 153/200\n",
      "263/263 [==============================] - 5s 19ms/step - loss: 79969.3359 - acc: 0.0000e+00\n",
      "Epoch 154/200\n",
      "263/263 [==============================] - 6s 21ms/step - loss: 80483.5469 - acc: 0.0000e+00\n",
      "Epoch 155/200\n",
      "263/263 [==============================] - 5s 19ms/step - loss: 81017.0703 - acc: 0.0000e+00\n",
      "Epoch 156/200\n",
      "263/263 [==============================] - 6s 22ms/step - loss: 81545.1328 - acc: 0.0000e+00\n",
      "Epoch 157/200\n",
      "263/263 [==============================] - 5s 20ms/step - loss: 82077.1875 - acc: 0.0000e+00\n",
      "Epoch 158/200\n",
      "263/263 [==============================] - 5s 20ms/step - loss: 82607.4922 - acc: 0.0000e+00\n",
      "Epoch 159/200\n",
      "263/263 [==============================] - 5s 19ms/step - loss: 83138.4219 - acc: 0.0000e+00\n",
      "Epoch 160/200\n",
      "263/263 [==============================] - 5s 20ms/step - loss: 83664.9609 - acc: 0.0000e+00\n",
      "Epoch 161/200\n",
      "263/263 [==============================] - 5s 20ms/step - loss: 84186.1406 - acc: 0.0000e+00\n",
      "Epoch 162/200\n",
      "263/263 [==============================] - 5s 20ms/step - loss: 84719.9922 - acc: 0.0000e+00\n",
      "Epoch 163/200\n",
      "263/263 [==============================] - 5s 19ms/step - loss: 85247.4922 - acc: 0.0000e+00\n",
      "Epoch 164/200\n",
      "263/263 [==============================] - 5s 19ms/step - loss: 85780.5312 - acc: 0.0000e+00\n",
      "Epoch 165/200\n",
      "263/263 [==============================] - 5s 19ms/step - loss: 86302.6953 - acc: 0.0000e+00\n",
      "Epoch 166/200\n",
      "263/263 [==============================] - 6s 22ms/step - loss: 86835.3125 - acc: 0.0000e+00\n",
      "Epoch 167/200\n",
      "263/263 [==============================] - 5s 19ms/step - loss: 87345.4609 - acc: 0.0000e+00\n",
      "Epoch 168/200\n",
      "263/263 [==============================] - 5s 19ms/step - loss: 87876.4297 - acc: 0.0000e+00\n",
      "Epoch 169/200\n",
      "263/263 [==============================] - 5s 19ms/step - loss: 88402.0625 - acc: 0.0000e+00\n",
      "Epoch 170/200\n",
      "263/263 [==============================] - 5s 19ms/step - loss: 88933.1562 - acc: 0.0000e+00\n",
      "Epoch 171/200\n",
      "263/263 [==============================] - 5s 19ms/step - loss: 89450.9766 - acc: 0.0000e+00\n",
      "Epoch 172/200\n",
      "263/263 [==============================] - 5s 19ms/step - loss: 89991.9062 - acc: 0.0000e+00\n",
      "Epoch 173/200\n",
      "263/263 [==============================] - 5s 19ms/step - loss: 90505.2188 - acc: 0.0000e+00\n",
      "Epoch 174/200\n",
      "263/263 [==============================] - 5s 19ms/step - loss: 91040.6719 - acc: 0.0000e+00\n",
      "Epoch 175/200\n",
      "263/263 [==============================] - 5s 19ms/step - loss: 91578.9219 - acc: 0.0000e+00\n",
      "Epoch 176/200\n",
      "263/263 [==============================] - 5s 19ms/step - loss: 92099.8828 - acc: 0.0000e+00\n",
      "Epoch 177/200\n",
      "263/263 [==============================] - 5s 19ms/step - loss: 92620.5625 - acc: 0.0000e+00\n",
      "Epoch 178/200\n",
      "263/263 [==============================] - 5s 19ms/step - loss: 93163.8047 - acc: 0.0000e+00\n",
      "Epoch 179/200\n",
      "263/263 [==============================] - 5s 19ms/step - loss: 93668.9219 - acc: 0.0000e+00\n",
      "Epoch 180/200\n",
      "263/263 [==============================] - 5s 19ms/step - loss: 94210.7812 - acc: 0.0000e+00\n",
      "Epoch 181/200\n",
      "263/263 [==============================] - 7s 28ms/step - loss: 94735.4219 - acc: 0.0000e+00\n",
      "Epoch 182/200\n",
      " 80/263 [========>.....................] - ETA: 5s - loss: 96362.7656 - acc: 0.0000e+00"
     ]
    },
    {
     "ename": "KeyboardInterrupt",
     "evalue": "",
     "output_type": "error",
     "traceback": [
      "\u001b[0;31m---------------------------------------------------------------------------\u001b[0m",
      "\u001b[0;31mKeyboardInterrupt\u001b[0m                         Traceback (most recent call last)",
      "\u001b[0;32m<ipython-input-28-c0bce965d28c>\u001b[0m in \u001b[0;36m<module>\u001b[0;34m\u001b[0m\n\u001b[0;32m----> 1\u001b[0;31m \u001b[0mhistory\u001b[0m\u001b[0;34m=\u001b[0m\u001b[0mmodel\u001b[0m\u001b[0;34m.\u001b[0m\u001b[0mfit\u001b[0m\u001b[0;34m(\u001b[0m\u001b[0mx\u001b[0m\u001b[0;34m,\u001b[0m\u001b[0my\u001b[0m\u001b[0;34m.\u001b[0m\u001b[0mreshape\u001b[0m\u001b[0;34m(\u001b[0m\u001b[0my\u001b[0m\u001b[0;34m.\u001b[0m\u001b[0mshape\u001b[0m\u001b[0;34m[\u001b[0m\u001b[0;36m0\u001b[0m\u001b[0;34m]\u001b[0m\u001b[0;34m,\u001b[0m\u001b[0;36m1\u001b[0m\u001b[0;34m,\u001b[0m\u001b[0my\u001b[0m\u001b[0;34m.\u001b[0m\u001b[0mshape\u001b[0m\u001b[0;34m[\u001b[0m\u001b[0;36m1\u001b[0m\u001b[0;34m]\u001b[0m\u001b[0;34m)\u001b[0m\u001b[0;34m,\u001b[0m\u001b[0mepochs\u001b[0m\u001b[0;34m=\u001b[0m\u001b[0;36m200\u001b[0m\u001b[0;34m)\u001b[0m\u001b[0;34m\u001b[0m\u001b[0;34m\u001b[0m\u001b[0m\n\u001b[0m",
      "\u001b[0;32m/usr/local/lib/python3.9/site-packages/keras/utils/traceback_utils.py\u001b[0m in \u001b[0;36merror_handler\u001b[0;34m(*args, **kwargs)\u001b[0m\n\u001b[1;32m     62\u001b[0m     \u001b[0mfiltered_tb\u001b[0m \u001b[0;34m=\u001b[0m \u001b[0;32mNone\u001b[0m\u001b[0;34m\u001b[0m\u001b[0;34m\u001b[0m\u001b[0m\n\u001b[1;32m     63\u001b[0m     \u001b[0;32mtry\u001b[0m\u001b[0;34m:\u001b[0m\u001b[0;34m\u001b[0m\u001b[0;34m\u001b[0m\u001b[0m\n\u001b[0;32m---> 64\u001b[0;31m       \u001b[0;32mreturn\u001b[0m \u001b[0mfn\u001b[0m\u001b[0;34m(\u001b[0m\u001b[0;34m*\u001b[0m\u001b[0margs\u001b[0m\u001b[0;34m,\u001b[0m \u001b[0;34m**\u001b[0m\u001b[0mkwargs\u001b[0m\u001b[0;34m)\u001b[0m\u001b[0;34m\u001b[0m\u001b[0;34m\u001b[0m\u001b[0m\n\u001b[0m\u001b[1;32m     65\u001b[0m     \u001b[0;32mexcept\u001b[0m \u001b[0mException\u001b[0m \u001b[0;32mas\u001b[0m \u001b[0me\u001b[0m\u001b[0;34m:\u001b[0m  \u001b[0;31m# pylint: disable=broad-except\u001b[0m\u001b[0;34m\u001b[0m\u001b[0;34m\u001b[0m\u001b[0m\n\u001b[1;32m     66\u001b[0m       \u001b[0mfiltered_tb\u001b[0m \u001b[0;34m=\u001b[0m \u001b[0m_process_traceback_frames\u001b[0m\u001b[0;34m(\u001b[0m\u001b[0me\u001b[0m\u001b[0;34m.\u001b[0m\u001b[0m__traceback__\u001b[0m\u001b[0;34m)\u001b[0m\u001b[0;34m\u001b[0m\u001b[0;34m\u001b[0m\u001b[0m\n",
      "\u001b[0;32m/usr/local/lib/python3.9/site-packages/keras/engine/training.py\u001b[0m in \u001b[0;36mfit\u001b[0;34m(self, x, y, batch_size, epochs, verbose, callbacks, validation_split, validation_data, shuffle, class_weight, sample_weight, initial_epoch, steps_per_epoch, validation_steps, validation_batch_size, validation_freq, max_queue_size, workers, use_multiprocessing)\u001b[0m\n\u001b[1;32m   1214\u001b[0m                 _r=1):\n\u001b[1;32m   1215\u001b[0m               \u001b[0mcallbacks\u001b[0m\u001b[0;34m.\u001b[0m\u001b[0mon_train_batch_begin\u001b[0m\u001b[0;34m(\u001b[0m\u001b[0mstep\u001b[0m\u001b[0;34m)\u001b[0m\u001b[0;34m\u001b[0m\u001b[0;34m\u001b[0m\u001b[0m\n\u001b[0;32m-> 1216\u001b[0;31m               \u001b[0mtmp_logs\u001b[0m \u001b[0;34m=\u001b[0m \u001b[0mself\u001b[0m\u001b[0;34m.\u001b[0m\u001b[0mtrain_function\u001b[0m\u001b[0;34m(\u001b[0m\u001b[0miterator\u001b[0m\u001b[0;34m)\u001b[0m\u001b[0;34m\u001b[0m\u001b[0;34m\u001b[0m\u001b[0m\n\u001b[0m\u001b[1;32m   1217\u001b[0m               \u001b[0;32mif\u001b[0m \u001b[0mdata_handler\u001b[0m\u001b[0;34m.\u001b[0m\u001b[0mshould_sync\u001b[0m\u001b[0;34m:\u001b[0m\u001b[0;34m\u001b[0m\u001b[0;34m\u001b[0m\u001b[0m\n\u001b[1;32m   1218\u001b[0m                 \u001b[0mcontext\u001b[0m\u001b[0;34m.\u001b[0m\u001b[0masync_wait\u001b[0m\u001b[0;34m(\u001b[0m\u001b[0;34m)\u001b[0m\u001b[0;34m\u001b[0m\u001b[0;34m\u001b[0m\u001b[0m\n",
      "\u001b[0;32m/usr/local/lib/python3.9/site-packages/tensorflow/python/util/traceback_utils.py\u001b[0m in \u001b[0;36merror_handler\u001b[0;34m(*args, **kwargs)\u001b[0m\n\u001b[1;32m    148\u001b[0m     \u001b[0mfiltered_tb\u001b[0m \u001b[0;34m=\u001b[0m \u001b[0;32mNone\u001b[0m\u001b[0;34m\u001b[0m\u001b[0;34m\u001b[0m\u001b[0m\n\u001b[1;32m    149\u001b[0m     \u001b[0;32mtry\u001b[0m\u001b[0;34m:\u001b[0m\u001b[0;34m\u001b[0m\u001b[0;34m\u001b[0m\u001b[0m\n\u001b[0;32m--> 150\u001b[0;31m       \u001b[0;32mreturn\u001b[0m \u001b[0mfn\u001b[0m\u001b[0;34m(\u001b[0m\u001b[0;34m*\u001b[0m\u001b[0margs\u001b[0m\u001b[0;34m,\u001b[0m \u001b[0;34m**\u001b[0m\u001b[0mkwargs\u001b[0m\u001b[0;34m)\u001b[0m\u001b[0;34m\u001b[0m\u001b[0;34m\u001b[0m\u001b[0m\n\u001b[0m\u001b[1;32m    151\u001b[0m     \u001b[0;32mexcept\u001b[0m \u001b[0mException\u001b[0m \u001b[0;32mas\u001b[0m \u001b[0me\u001b[0m\u001b[0;34m:\u001b[0m\u001b[0;34m\u001b[0m\u001b[0;34m\u001b[0m\u001b[0m\n\u001b[1;32m    152\u001b[0m       \u001b[0mfiltered_tb\u001b[0m \u001b[0;34m=\u001b[0m \u001b[0m_process_traceback_frames\u001b[0m\u001b[0;34m(\u001b[0m\u001b[0me\u001b[0m\u001b[0;34m.\u001b[0m\u001b[0m__traceback__\u001b[0m\u001b[0;34m)\u001b[0m\u001b[0;34m\u001b[0m\u001b[0;34m\u001b[0m\u001b[0m\n",
      "\u001b[0;32m/usr/local/lib/python3.9/site-packages/tensorflow/python/eager/def_function.py\u001b[0m in \u001b[0;36m__call__\u001b[0;34m(self, *args, **kwds)\u001b[0m\n\u001b[1;32m    908\u001b[0m \u001b[0;34m\u001b[0m\u001b[0m\n\u001b[1;32m    909\u001b[0m       \u001b[0;32mwith\u001b[0m \u001b[0mOptionalXlaContext\u001b[0m\u001b[0;34m(\u001b[0m\u001b[0mself\u001b[0m\u001b[0;34m.\u001b[0m\u001b[0m_jit_compile\u001b[0m\u001b[0;34m)\u001b[0m\u001b[0;34m:\u001b[0m\u001b[0;34m\u001b[0m\u001b[0;34m\u001b[0m\u001b[0m\n\u001b[0;32m--> 910\u001b[0;31m         \u001b[0mresult\u001b[0m \u001b[0;34m=\u001b[0m \u001b[0mself\u001b[0m\u001b[0;34m.\u001b[0m\u001b[0m_call\u001b[0m\u001b[0;34m(\u001b[0m\u001b[0;34m*\u001b[0m\u001b[0margs\u001b[0m\u001b[0;34m,\u001b[0m \u001b[0;34m**\u001b[0m\u001b[0mkwds\u001b[0m\u001b[0;34m)\u001b[0m\u001b[0;34m\u001b[0m\u001b[0;34m\u001b[0m\u001b[0m\n\u001b[0m\u001b[1;32m    911\u001b[0m \u001b[0;34m\u001b[0m\u001b[0m\n\u001b[1;32m    912\u001b[0m       \u001b[0mnew_tracing_count\u001b[0m \u001b[0;34m=\u001b[0m \u001b[0mself\u001b[0m\u001b[0;34m.\u001b[0m\u001b[0mexperimental_get_tracing_count\u001b[0m\u001b[0;34m(\u001b[0m\u001b[0;34m)\u001b[0m\u001b[0;34m\u001b[0m\u001b[0;34m\u001b[0m\u001b[0m\n",
      "\u001b[0;32m/usr/local/lib/python3.9/site-packages/tensorflow/python/eager/def_function.py\u001b[0m in \u001b[0;36m_call\u001b[0;34m(self, *args, **kwds)\u001b[0m\n\u001b[1;32m    940\u001b[0m       \u001b[0;31m# In this case we have created variables on the first call, so we run the\u001b[0m\u001b[0;34m\u001b[0m\u001b[0;34m\u001b[0m\u001b[0m\n\u001b[1;32m    941\u001b[0m       \u001b[0;31m# defunned version which is guaranteed to never create variables.\u001b[0m\u001b[0;34m\u001b[0m\u001b[0;34m\u001b[0m\u001b[0m\n\u001b[0;32m--> 942\u001b[0;31m       \u001b[0;32mreturn\u001b[0m \u001b[0mself\u001b[0m\u001b[0;34m.\u001b[0m\u001b[0m_stateless_fn\u001b[0m\u001b[0;34m(\u001b[0m\u001b[0;34m*\u001b[0m\u001b[0margs\u001b[0m\u001b[0;34m,\u001b[0m \u001b[0;34m**\u001b[0m\u001b[0mkwds\u001b[0m\u001b[0;34m)\u001b[0m  \u001b[0;31m# pylint: disable=not-callable\u001b[0m\u001b[0;34m\u001b[0m\u001b[0;34m\u001b[0m\u001b[0m\n\u001b[0m\u001b[1;32m    943\u001b[0m     \u001b[0;32melif\u001b[0m \u001b[0mself\u001b[0m\u001b[0;34m.\u001b[0m\u001b[0m_stateful_fn\u001b[0m \u001b[0;32mis\u001b[0m \u001b[0;32mnot\u001b[0m \u001b[0;32mNone\u001b[0m\u001b[0;34m:\u001b[0m\u001b[0;34m\u001b[0m\u001b[0;34m\u001b[0m\u001b[0m\n\u001b[1;32m    944\u001b[0m       \u001b[0;31m# Release the lock early so that multiple threads can perform the call\u001b[0m\u001b[0;34m\u001b[0m\u001b[0;34m\u001b[0m\u001b[0m\n",
      "\u001b[0;32m/usr/local/lib/python3.9/site-packages/tensorflow/python/eager/function.py\u001b[0m in \u001b[0;36m__call__\u001b[0;34m(self, *args, **kwargs)\u001b[0m\n\u001b[1;32m   3128\u001b[0m       (graph_function,\n\u001b[1;32m   3129\u001b[0m        filtered_flat_args) = self._maybe_define_function(args, kwargs)\n\u001b[0;32m-> 3130\u001b[0;31m     return graph_function._call_flat(\n\u001b[0m\u001b[1;32m   3131\u001b[0m         filtered_flat_args, captured_inputs=graph_function.captured_inputs)  # pylint: disable=protected-access\n\u001b[1;32m   3132\u001b[0m \u001b[0;34m\u001b[0m\u001b[0m\n",
      "\u001b[0;32m/usr/local/lib/python3.9/site-packages/tensorflow/python/eager/function.py\u001b[0m in \u001b[0;36m_call_flat\u001b[0;34m(self, args, captured_inputs, cancellation_manager)\u001b[0m\n\u001b[1;32m   1957\u001b[0m         and executing_eagerly):\n\u001b[1;32m   1958\u001b[0m       \u001b[0;31m# No tape is watching; skip to running the function.\u001b[0m\u001b[0;34m\u001b[0m\u001b[0;34m\u001b[0m\u001b[0m\n\u001b[0;32m-> 1959\u001b[0;31m       return self._build_call_outputs(self._inference_function.call(\n\u001b[0m\u001b[1;32m   1960\u001b[0m           ctx, args, cancellation_manager=cancellation_manager))\n\u001b[1;32m   1961\u001b[0m     forward_backward = self._select_forward_and_backward_functions(\n",
      "\u001b[0;32m/usr/local/lib/python3.9/site-packages/tensorflow/python/eager/function.py\u001b[0m in \u001b[0;36mcall\u001b[0;34m(self, ctx, args, cancellation_manager)\u001b[0m\n\u001b[1;32m    596\u001b[0m       \u001b[0;32mwith\u001b[0m \u001b[0m_InterpolateFunctionError\u001b[0m\u001b[0;34m(\u001b[0m\u001b[0mself\u001b[0m\u001b[0;34m)\u001b[0m\u001b[0;34m:\u001b[0m\u001b[0;34m\u001b[0m\u001b[0;34m\u001b[0m\u001b[0m\n\u001b[1;32m    597\u001b[0m         \u001b[0;32mif\u001b[0m \u001b[0mcancellation_manager\u001b[0m \u001b[0;32mis\u001b[0m \u001b[0;32mNone\u001b[0m\u001b[0;34m:\u001b[0m\u001b[0;34m\u001b[0m\u001b[0;34m\u001b[0m\u001b[0m\n\u001b[0;32m--> 598\u001b[0;31m           outputs = execute.execute(\n\u001b[0m\u001b[1;32m    599\u001b[0m               \u001b[0mstr\u001b[0m\u001b[0;34m(\u001b[0m\u001b[0mself\u001b[0m\u001b[0;34m.\u001b[0m\u001b[0msignature\u001b[0m\u001b[0;34m.\u001b[0m\u001b[0mname\u001b[0m\u001b[0;34m)\u001b[0m\u001b[0;34m,\u001b[0m\u001b[0;34m\u001b[0m\u001b[0;34m\u001b[0m\u001b[0m\n\u001b[1;32m    600\u001b[0m               \u001b[0mnum_outputs\u001b[0m\u001b[0;34m=\u001b[0m\u001b[0mself\u001b[0m\u001b[0;34m.\u001b[0m\u001b[0m_num_outputs\u001b[0m\u001b[0;34m,\u001b[0m\u001b[0;34m\u001b[0m\u001b[0;34m\u001b[0m\u001b[0m\n",
      "\u001b[0;32m/usr/local/lib/python3.9/site-packages/tensorflow/python/eager/execute.py\u001b[0m in \u001b[0;36mquick_execute\u001b[0;34m(op_name, num_outputs, inputs, attrs, ctx, name)\u001b[0m\n\u001b[1;32m     56\u001b[0m   \u001b[0;32mtry\u001b[0m\u001b[0;34m:\u001b[0m\u001b[0;34m\u001b[0m\u001b[0;34m\u001b[0m\u001b[0m\n\u001b[1;32m     57\u001b[0m     \u001b[0mctx\u001b[0m\u001b[0;34m.\u001b[0m\u001b[0mensure_initialized\u001b[0m\u001b[0;34m(\u001b[0m\u001b[0;34m)\u001b[0m\u001b[0;34m\u001b[0m\u001b[0;34m\u001b[0m\u001b[0m\n\u001b[0;32m---> 58\u001b[0;31m     tensors = pywrap_tfe.TFE_Py_Execute(ctx._handle, device_name, op_name,\n\u001b[0m\u001b[1;32m     59\u001b[0m                                         inputs, attrs, num_outputs)\n\u001b[1;32m     60\u001b[0m   \u001b[0;32mexcept\u001b[0m \u001b[0mcore\u001b[0m\u001b[0;34m.\u001b[0m\u001b[0m_NotOkStatusException\u001b[0m \u001b[0;32mas\u001b[0m \u001b[0me\u001b[0m\u001b[0;34m:\u001b[0m\u001b[0;34m\u001b[0m\u001b[0;34m\u001b[0m\u001b[0m\n",
      "\u001b[0;31mKeyboardInterrupt\u001b[0m: "
     ]
    }
   ],
   "source": [
    "history=model.fit(x,y.reshape(y.shape[0],1,y.shape[1]),epochs=200)"
   ]
  },
  {
   "cell_type": "code",
   "execution_count": 85,
   "metadata": {
    "collapsed": false,
    "pycharm": {
     "name": "#%%\n"
    }
   },
   "outputs": [],
   "source": [
    "from sklearn.tree import DecisionTreeClassifier\n",
    "clf = DecisionTreeClassifier(random_state=0)\n",
    "clf.fit(X_train,Y_train)\n",
    "y_hat=clf.predict(X_val)"
   ]
  },
  {
   "cell_type": "code",
   "execution_count": 86,
   "metadata": {
    "collapsed": false,
    "pycharm": {
     "name": "#%%\n"
    }
   },
   "outputs": [
    {
     "data": {
      "text/plain": [
       "0.0"
      ]
     },
     "execution_count": 86,
     "metadata": {},
     "output_type": "execute_result"
    }
   ],
   "source": [
    "from sklearn.metrics import accuracy_score\n",
    "accuracy_score(Y_val,y_hat)"
   ]
  },
  {
   "cell_type": "code",
   "execution_count": 87,
   "metadata": {
    "collapsed": false,
    "pycharm": {
     "name": "#%%\n"
    }
   },
   "outputs": [],
   "source": [
    "y_hat2=clf.predict(x_test.drop(['timestamp'],axis='columns'))"
   ]
  },
  {
   "cell_type": "code",
   "execution_count": 135,
   "metadata": {
    "collapsed": false,
    "pycharm": {
     "name": "#%%\n"
    }
   },
   "outputs": [],
   "source": [
    "tf.config.run_functions_eagerly(True)"
   ]
  },
  {
   "cell_type": "code",
   "execution_count": 92,
   "metadata": {
    "collapsed": false,
    "pycharm": {
     "name": "#%%\n"
    }
   },
   "outputs": [
    {
     "data": {
      "text/html": [
       "<div>\n",
       "<style scoped>\n",
       "    .dataframe tbody tr th:only-of-type {\n",
       "        vertical-align: middle;\n",
       "    }\n",
       "\n",
       "    .dataframe tbody tr th {\n",
       "        vertical-align: top;\n",
       "    }\n",
       "\n",
       "    .dataframe thead th {\n",
       "        text-align: right;\n",
       "    }\n",
       "</style>\n",
       "<table border=\"1\" class=\"dataframe\">\n",
       "  <thead>\n",
       "    <tr style=\"text-align: right;\">\n",
       "      <th></th>\n",
       "      <th>temperature</th>\n",
       "      <th>wind_speed</th>\n",
       "      <th>wind_gust_speed</th>\n",
       "      <th>rain_level</th>\n",
       "      <th>traffic_state</th>\n",
       "      <th>average_flow</th>\n",
       "    </tr>\n",
       "  </thead>\n",
       "  <tbody>\n",
       "    <tr>\n",
       "      <th>0</th>\n",
       "      <td>8.7</td>\n",
       "      <td>11.0</td>\n",
       "      <td>24.0</td>\n",
       "      <td>0.0</td>\n",
       "      <td>0</td>\n",
       "      <td>218.1</td>\n",
       "    </tr>\n",
       "    <tr>\n",
       "      <th>1</th>\n",
       "      <td>8.8</td>\n",
       "      <td>9.0</td>\n",
       "      <td>20.0</td>\n",
       "      <td>0.0</td>\n",
       "      <td>0</td>\n",
       "      <td>144.3</td>\n",
       "    </tr>\n",
       "    <tr>\n",
       "      <th>2</th>\n",
       "      <td>8.9</td>\n",
       "      <td>8.0</td>\n",
       "      <td>18.0</td>\n",
       "      <td>0.0</td>\n",
       "      <td>0</td>\n",
       "      <td>110.0</td>\n",
       "    </tr>\n",
       "    <tr>\n",
       "      <th>3</th>\n",
       "      <td>8.8</td>\n",
       "      <td>7.0</td>\n",
       "      <td>18.0</td>\n",
       "      <td>0.0</td>\n",
       "      <td>0</td>\n",
       "      <td>143.8</td>\n",
       "    </tr>\n",
       "    <tr>\n",
       "      <th>4</th>\n",
       "      <td>8.8</td>\n",
       "      <td>10.0</td>\n",
       "      <td>23.0</td>\n",
       "      <td>0.0</td>\n",
       "      <td>0</td>\n",
       "      <td>315.1</td>\n",
       "    </tr>\n",
       "    <tr>\n",
       "      <th>...</th>\n",
       "      <td>...</td>\n",
       "      <td>...</td>\n",
       "      <td>...</td>\n",
       "      <td>...</td>\n",
       "      <td>...</td>\n",
       "      <td>...</td>\n",
       "    </tr>\n",
       "    <tr>\n",
       "      <th>8395</th>\n",
       "      <td>14.1</td>\n",
       "      <td>7.0</td>\n",
       "      <td>10.0</td>\n",
       "      <td>0.0</td>\n",
       "      <td>0</td>\n",
       "      <td>370.3</td>\n",
       "    </tr>\n",
       "    <tr>\n",
       "      <th>8396</th>\n",
       "      <td>14.2</td>\n",
       "      <td>7.0</td>\n",
       "      <td>13.0</td>\n",
       "      <td>0.0</td>\n",
       "      <td>0</td>\n",
       "      <td>286.7</td>\n",
       "    </tr>\n",
       "    <tr>\n",
       "      <th>8397</th>\n",
       "      <td>13.4</td>\n",
       "      <td>5.0</td>\n",
       "      <td>11.0</td>\n",
       "      <td>0.0</td>\n",
       "      <td>0</td>\n",
       "      <td>185.5</td>\n",
       "    </tr>\n",
       "    <tr>\n",
       "      <th>8398</th>\n",
       "      <td>12.5</td>\n",
       "      <td>4.0</td>\n",
       "      <td>10.0</td>\n",
       "      <td>0.0</td>\n",
       "      <td>0</td>\n",
       "      <td>118.9</td>\n",
       "    </tr>\n",
       "    <tr>\n",
       "      <th>8399</th>\n",
       "      <td>12.0</td>\n",
       "      <td>5.0</td>\n",
       "      <td>6.0</td>\n",
       "      <td>0.0</td>\n",
       "      <td>0</td>\n",
       "      <td>84.6</td>\n",
       "    </tr>\n",
       "  </tbody>\n",
       "</table>\n",
       "<p>7804 rows × 6 columns</p>\n",
       "</div>"
      ],
      "text/plain": [
       "      temperature  wind_speed  wind_gust_speed  rain_level  traffic_state  \\\n",
       "0             8.7        11.0             24.0         0.0              0   \n",
       "1             8.8         9.0             20.0         0.0              0   \n",
       "2             8.9         8.0             18.0         0.0              0   \n",
       "3             8.8         7.0             18.0         0.0              0   \n",
       "4             8.8        10.0             23.0         0.0              0   \n",
       "...           ...         ...              ...         ...            ...   \n",
       "8395         14.1         7.0             10.0         0.0              0   \n",
       "8396         14.2         7.0             13.0         0.0              0   \n",
       "8397         13.4         5.0             11.0         0.0              0   \n",
       "8398         12.5         4.0             10.0         0.0              0   \n",
       "8399         12.0         5.0              6.0         0.0              0   \n",
       "\n",
       "      average_flow  \n",
       "0            218.1  \n",
       "1            144.3  \n",
       "2            110.0  \n",
       "3            143.8  \n",
       "4            315.1  \n",
       "...            ...  \n",
       "8395         370.3  \n",
       "8396         286.7  \n",
       "8397         185.5  \n",
       "8398         118.9  \n",
       "8399          84.6  \n",
       "\n",
       "[7804 rows x 6 columns]"
      ]
     },
     "execution_count": 92,
     "metadata": {},
     "output_type": "execute_result"
    }
   ],
   "source": [
    "x_train"
   ]
  },
  {
   "cell_type": "code",
   "execution_count": null,
   "metadata": {
    "collapsed": false,
    "pycharm": {
     "name": "#%%\n"
    }
   },
   "outputs": [],
   "source": []
  }
 ],
 "metadata": {
  "kernelspec": {
   "display_name": "Python 3",
   "language": "python",
   "name": "python3"
  },
  "language_info": {
   "codemirror_mode": {
    "name": "ipython",
    "version": 2
   },
   "file_extension": ".py",
   "mimetype": "text/x-python",
   "name": "python",
   "nbconvert_exporter": "python",
   "pygments_lexer": "ipython2",
   "version": "2.7.6"
  }
 },
 "nbformat": 4,
 "nbformat_minor": 0
}
